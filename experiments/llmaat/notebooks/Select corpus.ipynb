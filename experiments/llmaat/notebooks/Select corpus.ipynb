{
 "cells": [
  {
   "cell_type": "code",
   "execution_count": null,
   "id": "edf1570b-285a-4d02-a730-489b34d042ee",
   "metadata": {},
   "outputs": [],
   "source": [
    "# !pip3 install toolz"
   ]
  },
  {
   "cell_type": "code",
   "execution_count": null,
   "id": "a3234c87-372c-447d-8e41-a50472215001",
   "metadata": {},
   "outputs": [],
   "source": [
    "!which python"
   ]
  },
  {
   "cell_type": "code",
   "execution_count": 1,
   "id": "ff8cae4c-e46d-430e-b764-fb119a8426b8",
   "metadata": {},
   "outputs": [],
   "source": [
    "from tqdm import tqdm\n",
    "import pandas as pd\n",
    "import toolz\n",
    "import torch\n",
    "import torch.nn.functional as F\n",
    "\n",
    "from torch import Tensor\n",
    "from transformers import AutoTokenizer, AutoModel\n",
    "from sklearn.cluster import MiniBatchKMeans, KMeans, AgglomerativeClustering, HDBSCAN\n",
    "from sklearn.decomposition import PCA\n",
    "from sklearn.preprocessing import StandardScaler\n",
    "import seaborn as sns\n",
    "\n",
    "import numpy as np"
   ]
  },
  {
   "cell_type": "code",
   "execution_count": 36,
   "id": "fef0445e-e4de-42e7-94b2-8cd6cca3ef3a",
   "metadata": {},
   "outputs": [
    {
     "data": {
      "text/plain": [
       "True"
      ]
     },
     "execution_count": 36,
     "metadata": {},
     "output_type": "execute_result"
    }
   ],
   "source": [
    "torch.cuda.is_available()"
   ]
  },
  {
   "cell_type": "markdown",
   "id": "fe8f0cc1-6914-4fca-9547-74772f1374d7",
   "metadata": {},
   "source": [
    "# Embed"
   ]
  },
  {
   "cell_type": "code",
   "execution_count": 108,
   "id": "6e143caa-6f1a-4263-a285-bf006d3a2ab1",
   "metadata": {},
   "outputs": [],
   "source": [
    "def average_pool(last_hidden_states: Tensor,\n",
    "                 attention_mask: Tensor) -> Tensor:\n",
    "    last_hidden = last_hidden_states.masked_fill(~attention_mask[..., None].bool(), 0.0)\n",
    "    return last_hidden.sum(dim=1) / attention_mask.sum(dim=1)[..., None]\n",
    "\n",
    "\n",
    "# Each input text should start with \"query: \" or \"passage: \", even for non-English texts.\n",
    "# For tasks other than retrieval, you can simply use the \"query: \" prefix.\n",
    "input_texts = ['query: how much protein should a female eat',\n",
    "               'query: 南瓜的家常做法',\n",
    "               \"passage: As a general guideline, the CDC's average requirement of protein for women ages 19 to 70 is 46 grams per day. But, as you can see from this chart, you'll need to increase that if you're expecting or training for a marathon. Check out the chart below to see how much protein you should be eating each day.\",\n",
    "               \"passage: 1.清炒南瓜丝 原料:嫩南瓜半个 调料:葱、盐、白糖、鸡精 做法: 1、南瓜用刀薄薄的削去表面一层皮,用勺子刮去瓤 2、擦成细丝(没有擦菜板就用刀慢慢切成细丝) 3、锅烧热放油,入葱花煸出香味 4、入南瓜丝快速翻炒一分钟左右,放盐、一点白糖和鸡精调味出锅 2.香葱炒南瓜 原料:南瓜1只 调料:香葱、蒜末、橄榄油、盐 做法: 1、将南瓜去皮,切成片 2、油锅8成热后,将蒜末放入爆香 3、爆香后,将南瓜片放入,翻炒 4、在翻炒的同时,可以不时地往锅里加水,但不要太多 5、放入盐,炒匀 6、南瓜差不多软和绵了之后,就可以关火 7、撒入香葱,即可出锅\"]\n",
    "\n",
    "tokenizer = AutoTokenizer.from_pretrained('intfloat/multilingual-e5-small')\n",
    "# model = torch.nn.DataParallel(AutoModel.from_pretrained('intfloat/multilingual-e5-small', device_map=\"cuda\"))\n",
    "model = AutoModel.from_pretrained('intfloat/multilingual-e5-small', device_map=\"cuda\")\n",
    "\n",
    "\n"
   ]
  },
  {
   "cell_type": "code",
   "execution_count": null,
   "id": "b2a28046-a32a-409f-88f7-2f55a12d39a0",
   "metadata": {},
   "outputs": [],
   "source": [
    "# # Tokenize the input texts\n",
    "batch_dict = tokenizer(input_texts, max_length=512, padding=True, truncation=True, return_tensors='pt')\n",
    "batch_dict = {k: v.to('cuda') for k, v in batch_dict.items()}\n",
    "\n",
    "model.eval()\n",
    "outputs = model(**batch_dict)\n",
    "embeddings = average_pool(outputs.last_hidden_state, batch_dict['attention_mask'])\n",
    "# # normalize embeddings\n",
    "embeddings = F.normalize(embeddings, p=2, dim=1)\n",
    "scores = (embeddings[:2] @ embeddings[2:].T) * 100\n",
    "print(scores.tolist())\n"
   ]
  },
  {
   "cell_type": "code",
   "execution_count": null,
   "id": "c369651e-3e93-42b9-b078-f5c3f9567d7c",
   "metadata": {},
   "outputs": [],
   "source": [
    "embeddings"
   ]
  },
  {
   "cell_type": "code",
   "execution_count": null,
   "id": "28e549c3-bd73-40f7-b93c-1b3a6ff42b02",
   "metadata": {},
   "outputs": [],
   "source": [
    "embeddings.shape"
   ]
  },
  {
   "cell_type": "code",
   "execution_count": 109,
   "id": "86ed027d-6df8-4a7d-ae4d-db80ff31cac9",
   "metadata": {},
   "outputs": [],
   "source": [
    "def process_emb(batch):\n",
    "    batch_dict = tokenizer(batch, max_length=512, padding=True, truncation=True, return_tensors='pt')\n",
    "    batch_dict = {k: v.to('cuda') for k, v in batch_dict.items()}\n",
    "    outputs = model(**batch_dict)\n",
    "    embeddings = average_pool(outputs.last_hidden_state, batch_dict['attention_mask'])\n",
    "    embeddings = F.normalize(embeddings, p=2, dim=1)\n",
    "    return embeddings.to('cpu').detach()"
   ]
  },
  {
   "cell_type": "code",
   "execution_count": null,
   "id": "7d244e5b-fc4f-4050-a23e-44e4415f1779",
   "metadata": {},
   "outputs": [],
   "source": [
    "model.eval()\n",
    "all_embs = []\n",
    "with tqdm() as pbar:\n",
    "    with open('distill_corpus/sample.en') as f:\n",
    "        for part in toolz.partition_all(64000, f):\n",
    "            maxi_batch = [f'query: {sent.rstrip()}' for sent in part]\n",
    "            for mini_batch in toolz.partition_all(32, maxi_batch):\n",
    "                emb = process_emb(mini_batch)\n",
    "                all_embs.append(emb)\n",
    "                pbar.update(len(mini_batch))"
   ]
  },
  {
   "cell_type": "code",
   "execution_count": null,
   "id": "2810ad02-2580-4395-8239-a44f84417759",
   "metadata": {},
   "outputs": [],
   "source": [
    "all_embeddings = torch.cat(all_embs, dim=0)\n",
    "save_path = f\"distill_corpus/sample/embeddings.pt\"\n",
    "torch.save(all_embeddings, save_path)"
   ]
  },
  {
   "cell_type": "markdown",
   "id": "8058e799-a84b-4d5d-a4a1-a954bfc05670",
   "metadata": {},
   "source": [
    "# Cluster"
   ]
  },
  {
   "cell_type": "code",
   "execution_count": 141,
   "id": "eb1aab86-de8f-436a-babd-e5a858e444e7",
   "metadata": {},
   "outputs": [],
   "source": [
    "embs = torch.cat([torch.load(f'distill_corpus/sample/part_{i}_embeddings.pt') for i in range(8)])"
   ]
  },
  {
   "cell_type": "code",
   "execution_count": 142,
   "id": "b4055a69-b3cb-4b83-b6eb-feb746d3131a",
   "metadata": {},
   "outputs": [
    {
     "data": {
      "text/plain": [
       "torch.Size([178112, 384])"
      ]
     },
     "execution_count": 142,
     "metadata": {},
     "output_type": "execute_result"
    }
   ],
   "source": [
    "embs.shape"
   ]
  },
  {
   "cell_type": "code",
   "execution_count": 3,
   "id": "6d81ac8e-6b17-41f1-a5f0-2807e3ba92b9",
   "metadata": {},
   "outputs": [],
   "source": [
    "embs = embs.numpy()"
   ]
  },
  {
   "cell_type": "code",
   "execution_count": null,
   "id": "eac0f4bb-d0ca-43bd-8114-b332425766e8",
   "metadata": {},
   "outputs": [],
   "source": [
    "kmeans = MiniBatchKMeans(n_clusters=5000,\n",
    "                         random_state=0,\n",
    "                         batch_size=256*56,\n",
    "                         n_init=\"auto\")\n",
    "\n",
    "kmeans = kmeans.fit(embs)"
   ]
  },
  {
   "cell_type": "code",
   "execution_count": null,
   "id": "11e42216-b39e-4c61-9f78-ed1fad00ed1b",
   "metadata": {},
   "outputs": [],
   "source": [
    "centroids = kmeans.cluster_centers_\n",
    "centroids.shape"
   ]
  },
  {
   "cell_type": "code",
   "execution_count": null,
   "id": "6fd2f538-50a5-4259-8a1e-4d4cbdf1a53a",
   "metadata": {},
   "outputs": [],
   "source": [
    "with open('distill_corpus/centroids_5k.npy', 'wb') as f:\n",
    "    np.save(f, centroids)"
   ]
  },
  {
   "cell_type": "code",
   "execution_count": null,
   "id": "2d5aa3a9-7095-43a3-aa1e-0cb7741466cc",
   "metadata": {},
   "outputs": [],
   "source": [
    "# run torchrun --nproc_per_node=8 cluster_corpus_ddp.py"
   ]
  },
  {
   "cell_type": "code",
   "execution_count": 3,
   "id": "b25c7faf-2965-4e37-a309-8b2308c5d7f1",
   "metadata": {},
   "outputs": [
    {
     "data": {
      "text/plain": [
       "(376442118,)"
      ]
     },
     "execution_count": 3,
     "metadata": {},
     "output_type": "execute_result"
    }
   ],
   "source": [
    "clusters = np.concatenate([np.load(f'distill_corpus/corpus/corpus_{i}_clusters.npy') for i in range(8)])\n",
    "clusters.shape"
   ]
  },
  {
   "cell_type": "code",
   "execution_count": 42,
   "id": "11a8be8d-cc44-4f6b-9828-34702d34536f",
   "metadata": {},
   "outputs": [
    {
     "data": {
      "text/plain": [
       "array([4592, 3772, 4706, 4784])"
      ]
     },
     "execution_count": 42,
     "metadata": {},
     "output_type": "execute_result"
    }
   ],
   "source": [
    "# we should either use normalized embeddings and cosine similarity which requries normalizing centroids or a more standard scikit-learn k-means euclidian distance which requires non-normalized everything\n",
    "# dot-product is more traditional in NN search for embeddings and it's fast on GPU\n",
    "centroids_norm = centroids / np.linalg.norm(centroids, axis=1, keepdims=True)\n",
    "centroids_tensor = torch.from_numpy(centroids_norm).cuda()\n",
    "def process_cluster(batch):\n",
    "    batch_dict = tokenizer(batch, max_length=512, padding=True, truncation=True, return_tensors='pt')\n",
    "    batch_dict = {k: v.cuda() for k, v in batch_dict.items()}\n",
    "    outputs = model(**batch_dict)\n",
    "    embeddings = average_pool(outputs.last_hidden_state, batch_dict['attention_mask'])\n",
    "    embeddings = F.normalize(embeddings, p=2, dim=1)\n",
    "    scores = (embeddings @ centroids_tensor.T)\n",
    "    clusters = np.argmax(scores.to('cpu').detach().numpy(), axis=1)\n",
    "    return clusters\n",
    "cl_proc = process_cluster(input_texts)\n",
    "cl_proc"
   ]
  },
  {
   "cell_type": "code",
   "execution_count": 43,
   "id": "7fb20c13-248e-464a-86fb-f418ad7c7dfa",
   "metadata": {},
   "outputs": [
    {
     "data": {
      "text/plain": [
       "(4,)"
      ]
     },
     "execution_count": 43,
     "metadata": {},
     "output_type": "execute_result"
    }
   ],
   "source": [
    "cl_proc.shape"
   ]
  },
  {
   "cell_type": "markdown",
   "id": "f7a57c4b-f8ea-4846-8ac6-f54d0089af02",
   "metadata": {},
   "source": [
    "# inspect clusters"
   ]
  },
  {
   "cell_type": "code",
   "execution_count": 3,
   "id": "9dbc2674-fce2-4eca-a67a-d63b299d3872",
   "metadata": {},
   "outputs": [],
   "source": [
    "clusters = np.load(f'distill_corpus/sample/part_0_clusters.npy')[:64000]"
   ]
  },
  {
   "cell_type": "code",
   "execution_count": 8,
   "id": "49dbe51f-95e7-495a-bd90-b1c60efdbb93",
   "metadata": {},
   "outputs": [
    {
     "data": {
      "text/plain": [
       "torch.Size([22912, 384])"
      ]
     },
     "execution_count": 8,
     "metadata": {},
     "output_type": "execute_result"
    }
   ],
   "source": [
    "embs = torch.load(f'distill_corpus/sample/part_0_embeddings.pt')[:64000]\n",
    "embs.shape"
   ]
  },
  {
   "cell_type": "code",
   "execution_count": 60,
   "id": "805910e9-995d-4462-89a1-ba85f84d00a1",
   "metadata": {},
   "outputs": [],
   "source": [
    "pd.DataFrame(embs[:64000]).to_csv('distill_corpus/part_0_embeddings_64k.tsv', sep='\\t', index=False, header=False)"
   ]
  },
  {
   "cell_type": "code",
   "execution_count": 4,
   "id": "187abec5-be13-429a-ae64-97afda070cfd",
   "metadata": {},
   "outputs": [],
   "source": [
    "with open('distill_corpus/centroids/centroids_5k.npy', 'rb') as f:\n",
    "    centroids = np.load(f)\n",
    "    centroids_norm = centroids / np.linalg.norm(centroids, axis=1, keepdims=True)\n",
    " "
   ]
  },
  {
   "cell_type": "code",
   "execution_count": 5,
   "id": "c4947630-7da4-415a-948d-c8a1048e2692",
   "metadata": {},
   "outputs": [
    {
     "data": {
      "text/plain": [
       "(5000, 384)"
      ]
     },
     "execution_count": 5,
     "metadata": {},
     "output_type": "execute_result"
    }
   ],
   "source": [
    "centroids_norm.shape"
   ]
  },
  {
   "cell_type": "code",
   "execution_count": 10,
   "id": "a1084de2-2f10-4c29-bfb8-66ec0110804f",
   "metadata": {},
   "outputs": [],
   "source": [
    "scores = (embs @ centroids_norm.T)"
   ]
  },
  {
   "cell_type": "code",
   "execution_count": 11,
   "id": "73402ae8-d05f-44ea-8db0-291edd0d806b",
   "metadata": {},
   "outputs": [
    {
     "data": {
      "text/plain": [
       "torch.Size([22912, 5000])"
      ]
     },
     "execution_count": 11,
     "metadata": {},
     "output_type": "execute_result"
    }
   ],
   "source": [
    "scores.shape"
   ]
  },
  {
   "cell_type": "code",
   "execution_count": 12,
   "id": "1b586065-4301-46c3-952d-eaf78d624302",
   "metadata": {},
   "outputs": [],
   "source": [
    "clusters = np.argmax(scores, axis=1)"
   ]
  },
  {
   "cell_type": "code",
   "execution_count": 13,
   "id": "87aecfeb-4827-4f49-ba24-78c1f3d692d9",
   "metadata": {},
   "outputs": [],
   "source": [
    "def get_clusters(embs):\n",
    "    scores = (embs @ centroids_norm.T)\n",
    "    clusters = np.argmax(scores, axis=1)\n",
    "    return clusters.tolist()"
   ]
  },
  {
   "cell_type": "code",
   "execution_count": 19,
   "id": "182f2300-192a-4127-983f-70f6c88de6c0",
   "metadata": {},
   "outputs": [
    {
     "data": {
      "text/html": [
       "<div>\n",
       "<style scoped>\n",
       "    .dataframe tbody tr th:only-of-type {\n",
       "        vertical-align: middle;\n",
       "    }\n",
       "\n",
       "    .dataframe tbody tr th {\n",
       "        vertical-align: top;\n",
       "    }\n",
       "\n",
       "    .dataframe thead th {\n",
       "        text-align: right;\n",
       "    }\n",
       "</style>\n",
       "<table border=\"1\" class=\"dataframe\">\n",
       "  <thead>\n",
       "    <tr style=\"text-align: right;\">\n",
       "      <th></th>\n",
       "      <th>text</th>\n",
       "    </tr>\n",
       "  </thead>\n",
       "  <tbody>\n",
       "    <tr>\n",
       "      <th>count</th>\n",
       "      <td>10000000</td>\n",
       "    </tr>\n",
       "    <tr>\n",
       "      <th>unique</th>\n",
       "      <td>9996805</td>\n",
       "    </tr>\n",
       "    <tr>\n",
       "      <th>top</th>\n",
       "      <td>Requested URL: /Customer/SearchDetails.aspx</td>\n",
       "    </tr>\n",
       "    <tr>\n",
       "      <th>freq</th>\n",
       "      <td>3</td>\n",
       "    </tr>\n",
       "  </tbody>\n",
       "</table>\n",
       "</div>"
      ],
      "text/plain": [
       "                                               text\n",
       "count                                      10000000\n",
       "unique                                      9996805\n",
       "top     Requested URL: /Customer/SearchDetails.aspx\n",
       "freq                                              3"
      ]
     },
     "execution_count": 19,
     "metadata": {},
     "output_type": "execute_result"
    }
   ],
   "source": [
    "with open('distill_corpus/sample/sample.en') as f:\n",
    "    texts = f.read()\n",
    "df_64 = pd.DataFrame({'text': list(texts.strip().split('\\n'))})\n",
    "df_64.describe()"
   ]
  },
  {
   "cell_type": "code",
   "execution_count": 20,
   "id": "845486ad-1f6a-41c1-8ba7-0f456ec2a330",
   "metadata": {},
   "outputs": [],
   "source": [
    "df_64['cluster'] = clusters"
   ]
  },
  {
   "cell_type": "code",
   "execution_count": 31,
   "id": "a1ae2601-a967-4255-a084-2d6b426e5aaa",
   "metadata": {},
   "outputs": [
    {
     "data": {
      "text/plain": [
       "4999"
      ]
     },
     "execution_count": 31,
     "metadata": {},
     "output_type": "execute_result"
    }
   ],
   "source": [
    "df_64['cluster'].unique().size"
   ]
  },
  {
   "cell_type": "code",
   "execution_count": 23,
   "id": "7df0d018-00dc-4383-bf4b-4cca8a05d943",
   "metadata": {},
   "outputs": [
    {
     "data": {
      "text/html": [
       "<div>\n",
       "<style scoped>\n",
       "    .dataframe tbody tr th:only-of-type {\n",
       "        vertical-align: middle;\n",
       "    }\n",
       "\n",
       "    .dataframe tbody tr th {\n",
       "        vertical-align: top;\n",
       "    }\n",
       "\n",
       "    .dataframe thead th {\n",
       "        text-align: right;\n",
       "    }\n",
       "</style>\n",
       "<table border=\"1\" class=\"dataframe\">\n",
       "  <thead>\n",
       "    <tr style=\"text-align: right;\">\n",
       "      <th></th>\n",
       "      <th>text</th>\n",
       "      <th>cluster</th>\n",
       "    </tr>\n",
       "  </thead>\n",
       "  <tbody>\n",
       "    <tr>\n",
       "      <th>0</th>\n",
       "      <td>Cristiano Ronaldo celebrates as Madid take the...</td>\n",
       "      <td>939</td>\n",
       "    </tr>\n",
       "    <tr>\n",
       "      <th>1</th>\n",
       "      <td>As a result, the Ombudsman closed dSL's pendin...</td>\n",
       "      <td>3427</td>\n",
       "    </tr>\n",
       "    <tr>\n",
       "      <th>2</th>\n",
       "      <td>Rwanda has closed schools in the capital, Kiga...</td>\n",
       "      <td>1737</td>\n",
       "    </tr>\n",
       "    <tr>\n",
       "      <th>3</th>\n",
       "      <td>So \"Long Tall Sally.\"</td>\n",
       "      <td>1775</td>\n",
       "    </tr>\n",
       "    <tr>\n",
       "      <th>4</th>\n",
       "      <td>Tolls would depend on the day of the week, hou...</td>\n",
       "      <td>929</td>\n",
       "    </tr>\n",
       "    <tr>\n",
       "      <th>...</th>\n",
       "      <td>...</td>\n",
       "      <td>...</td>\n",
       "    </tr>\n",
       "    <tr>\n",
       "      <th>9999995</th>\n",
       "      <td>\"Oh, I guess,\" he sighs.</td>\n",
       "      <td>2621</td>\n",
       "    </tr>\n",
       "    <tr>\n",
       "      <th>9999996</th>\n",
       "      <td>Just ask Tiffany \"Thi\" Nguyen, a senior at Rai...</td>\n",
       "      <td>1515</td>\n",
       "    </tr>\n",
       "    <tr>\n",
       "      <th>9999997</th>\n",
       "      <td>The U.S. Environmental Protection Agency (EPA)...</td>\n",
       "      <td>4638</td>\n",
       "    </tr>\n",
       "    <tr>\n",
       "      <th>9999998</th>\n",
       "      <td>\"Yes,\" answered Sara, and suddenly a strange t...</td>\n",
       "      <td>4980</td>\n",
       "    </tr>\n",
       "    <tr>\n",
       "      <th>9999999</th>\n",
       "      <td>Doctors only identified polonium as the poison...</td>\n",
       "      <td>599</td>\n",
       "    </tr>\n",
       "  </tbody>\n",
       "</table>\n",
       "<p>10000000 rows × 2 columns</p>\n",
       "</div>"
      ],
      "text/plain": [
       "                                                      text  cluster\n",
       "0        Cristiano Ronaldo celebrates as Madid take the...      939\n",
       "1        As a result, the Ombudsman closed dSL's pendin...     3427\n",
       "2        Rwanda has closed schools in the capital, Kiga...     1737\n",
       "3                                    So \"Long Tall Sally.\"     1775\n",
       "4        Tolls would depend on the day of the week, hou...      929\n",
       "...                                                    ...      ...\n",
       "9999995                           \"Oh, I guess,\" he sighs.     2621\n",
       "9999996  Just ask Tiffany \"Thi\" Nguyen, a senior at Rai...     1515\n",
       "9999997  The U.S. Environmental Protection Agency (EPA)...     4638\n",
       "9999998  \"Yes,\" answered Sara, and suddenly a strange t...     4980\n",
       "9999999  Doctors only identified polonium as the poison...      599\n",
       "\n",
       "[10000000 rows x 2 columns]"
      ]
     },
     "execution_count": 23,
     "metadata": {},
     "output_type": "execute_result"
    }
   ],
   "source": [
    "df_64"
   ]
  },
  {
   "cell_type": "code",
   "execution_count": 25,
   "id": "be915cb0-3bc2-4e3d-a5d2-59cee4e1039b",
   "metadata": {},
   "outputs": [
    {
     "data": {
      "text/plain": [
       "<Axes: >"
      ]
     },
     "execution_count": 25,
     "metadata": {},
     "output_type": "execute_result"
    },
    {
     "data": {
      "image/png": "[encoded data removed]",
      "text/plain": [
       "<Figure size 640x480 with 1 Axes>"
      ]
     },
     "metadata": {},
     "output_type": "display_data"
    }
   ],
   "source": [
    "sizes = df_64.groupby('cluster').size()\n",
    "sizes.hist(bins=100)"
   ]
  },
  {
   "cell_type": "code",
   "execution_count": 22,
   "id": "5e9e67c8-542d-44ec-a252-6642041e1fbc",
   "metadata": {},
   "outputs": [
    {
     "data": {
      "text/plain": [
       "count     4999.000000\n",
       "mean      2000.400080\n",
       "std       2910.977144\n",
       "min          1.000000\n",
       "1%           1.000000\n",
       "5%           1.000000\n",
       "10%          1.000000\n",
       "20%          1.000000\n",
       "30%          1.000000\n",
       "40%          2.000000\n",
       "50%          3.000000\n",
       "60%         10.000000\n",
       "70%       4105.600000\n",
       "80%       5338.400000\n",
       "90%       6577.600000\n",
       "95%       7567.500000\n",
       "99%       8986.620000\n",
       "max      14725.000000\n",
       "dtype: float64"
      ]
     },
     "execution_count": 22,
     "metadata": {},
     "output_type": "execute_result"
    }
   ],
   "source": [
    "sizes.describe(percentiles=[.01, .05, .1, .2, .3, .4, .5, .6, .7, .8, .9, .95, .99])"
   ]
  },
  {
   "cell_type": "code",
   "execution_count": 28,
   "id": "d0a2526c-4284-4189-906a-07801516d65b",
   "metadata": {},
   "outputs": [
    {
     "name": "stdout",
     "output_type": "stream",
     "text": [
      "4\n",
      "size: 6636\n",
      "A/61/277 Item 52 (b) of the provisional agenda - - Sustainable development: follow-up and implementation of the Mauritius Strategy for the Further Implementation of the Programme of Action for the Sustainable Development of Small Island Developing States - - Report of the Secretary-General [A C E F R S]\n",
      "The Secretary-General thus submits to the Fifth Committee for its consideration the list of candidates nominated for membership in the International Civil Service Commission for a four-year term of office beginning 1 January 2002:\n",
      "2. In its resolution 2002/26 of 24 July 2002 entitled \" Further promotion of equalization of opportunities by, for and with persons with disabilities and protection of their human rights \" , the Economic and Social Council requested the Secretary-General to seek the views of Member States on the proposals contained in the report of the Special Rapporteur, especially on the suggested supplement to the Standard Rules, and to submit a substantive report to the Commission for Social Development at its forty-second session.\n",
      "36. Mr. Orr (Canada), referring to paragraph 7 of the report of the Secretary-General contained in document A/52/867, expressed the hope that, when the new Regulations and Rules were submitted to the General Assembly at its fifty-fifth session, the Secretary-General would ensure that they were consistent with the INTOSAI Guidelines.\n",
      "“The Security Council has written to the Secretary-General recommending such a strengthening of the mandate of UNOL and requesting reports every three months.\n",
      "In accordance with a request of the Statistical Commission at its thirty-third session,** the Secretary-General has the honour to transmit to the Commission, for information, the report of the United Nations Statistics Division and the Organization for Economic Cooperation and Development (OECD) on the Joint United Nations/OECD System for collection and processing of international merchandise trade statistics.\n",
      "The Task Force submitted the matter to the Special Representative of the Secretary-General on 10 May 2005, recommending the referral of the case to the Department of Justice for criminal investigation and the imposition of administrative sanctions against the individuals concerned.\n",
      "Report of the Secretary-General on the triennial policy review of operational activities for development of the United Nations system (General Assembly resolutions 35/81, 53/192 and 56/201)\n",
      "[Report of the Secretary-General on special political missions: estimates in respect of matters of which the Security Council is seized and on synergies and complementarities between various missions and other relevant entities of the United Nations to ensure efficiency and optimum use]\n",
      "11:00 Mr. Jan Eliasson, Deputy Secretary-General; and Mr. Jan Egeland, Secretary General of the Norwegian Refugee Council (on the findings of the Internal Displacement Monitoring Centre ' s new report entitled Global Estimates 2014: People Displaced by Disasters)\n",
      "=================================================================\n",
      "6\n",
      "size: 16\n",
      "It's a whole new wave.\n",
      "That's a whole new level.\n",
      "This is all very new.\n",
      "This is a whole new dimension.\n",
      "And that is what America is all about.\n",
      "This is part of the new world.\n",
      "The whole new world.\n",
      "That's a whole new America.\n",
      "It's a whole new world, a whole new language.\n",
      "It's all very American.\n",
      "=================================================================\n",
      "9\n",
      "size: 5069\n",
      "By age six, 68 percent of children in non-married households had experienced at least one year of poverty, compared to 12 percent of children in married households.\n",
      "Das, who has been living in the capital since 1973, said Islamabad was one the county's most expensive cities in the country of 200 million. For most Hindus travelling to Islamabad, accommodation was unaffordable as many of them came from lower-income backgrounds, Das added.\n",
      "Over half of the population of Nigeria are multidimensionally poor and cook with dung, wood or charcoal, rather than cleaner energy. High deprivations are also apparent nationally in sanitation, time to healthcare, food insecurity and housing.\n",
      "This of course has meant a significant reduction in household income for these families. Whilst this reduction in income is survivable for most families for one or two months, the moment that it pushes five and six months it really starts to pose a problem.\n",
      "L.A. Unified also is expected to receive about 20% of the federal bailout money that has been set aside for California's schools. The L.A. share, estimated at more than $291 million, is so large because the federal aid is tied to poverty and about 80% of district students are members of low-income households.\n",
      "The Institute for Policy Studies calculated that, setting aside money invested in “durable goods” such as furniture and a family car, the median black family had net wealth of $ 1,700 in 2013, and the median Latino family had $ 2,000, compared with $ 116,800 for the median white family.\n",
      "By contrast, under the Affordable Care Act, the federal government pays at least 90 percent of the cost of care for people made eligible for Medicaid by the full expansion of the program.\n",
      "Screening rates were lowest for women with an annual household income of less than $15,000, no family history of cancer, no usual health care provider, or 1 or no provider visits in the previous year.\n",
      "28.6% of the annual global immigrant visa quota in the United States, or about 40,000 immigrant visas, plus quotas for unused special immigrants and investment immigrants, are used for “first-class priority” immigrants.\n",
      "One reason is the explosion of the number of people receiving Social Security Disability Insurance: It's tripled since 1980, doubled since 1995.\n",
      "=================================================================\n",
      "11\n",
      "size: 40\n",
      "November 22, 2011 -- Updated 2157 GMT (0557 HKT)\n",
      "December 8, 2011 -- Updated 1229 GMT (2029 HKT)\n",
      "October 13, 2011 -- Updated 1854 GMT (0254 HKT)\n",
      "October 31, 2011 -- Updated 0830 GMT (1630 HKT)\n",
      "October 25, 2012 -- Updated 1131 GMT (1931 HKT)\n",
      "October 24, 2011 -- Updated 1710 GMT (0110 HKT)\n",
      "October 6, 2011 -- Updated 2322 GMT (0722 HKT)\n",
      "October 17, 2011 -- Updated 1822 GMT (0222 HKT)\n",
      "October 16, 2011 -- Updated 1926 GMT (0326 HKT)\n",
      "December 6, 2011 -- Updated 1715 GMT (0115 HKT)\n",
      "=================================================================\n",
      "12\n",
      "size: 3066\n",
      "Overall, the risk and reward for 2015 is balanced.\n",
      "Careful What You Wish For (2015).\n",
      "Southland Conference tournament champ SFA also had an NCAA win in 2014.\n",
      "The Association was accorded consultative status with the Economic and Social Council in July 2014.\n",
      "Pew's latest data shows that the gap has widened even further since 2014.\n",
      "Top Education Institute gave the Liberal Party $44,275 in 2014 / 15.\n",
      "Thoughts on the gardening season (2013)\n",
      "He served as the city's mayor from 2010 to 2014.\n",
      "Between 2012 and 2013, adoption only increased one percentage point.\n",
      "2014 ban a crushing defeat for A-Rod\n",
      "=================================================================\n",
      "17\n",
      "size: 5347\n",
      "Do not let the butter brown.\n",
      "Be rude, say nothing - and save the planet.\n",
      "Never underestimate the most basic pieces in your wardrobe.\n",
      "Thirdly, don't have sex in a rush.\n",
      "Courage doesn't mean you're not afraid.\n",
      "\"Don't let it touch you, whatever they do.\n",
      "Be nice, don't be threatening.\n",
      "Don't quit under any circumstances.\n",
      "Fair criticism is not hatred.)\n",
      "Do not approach the caterpillars\n",
      "=================================================================\n",
      "18\n",
      "size: 3755\n",
      "The two largest cities meanwhile both have archipelagos on their doorsteps and Stockholm itself is made up of a number of ÖAR (islands).\n",
      "Scotland put to death thousands of innocent women who were accused of being witches, just one member of a supernatural ecosystem that also included ghouls, ghosts and a particularly Scottish type of fairy, writes Susan Morrison.\n",
      "The crowd featured first time vistors, return visitors and those with family links to Scotland.\n",
      "There were many names for the school belt in Scotland from the toosh to the tag to the scudge and the scud.\n",
      "Graeme Brown, Founder of The Hampden Collection, which is running the UNESCO bid, said: \"In the 150th year of international football, founded in Glasgow, this tour should be on everyone's footballing bucket list. You will hear the greatest story never told, where we showcase how the Scotch Professors created the modern passing game, designed and built the stadiums to watch it in, and then exported to every corner of the planet.\"\n",
      "\"Scotland, I knew well, had a lexical fecundity, a folkloric and literary richness, a diversity of histories and local cultures, that were undreamt of by the Reverend E. Cobham Brewer and his largely English successors.\n",
      "The southwest is famous for the likes of Cheddar cheese, the Cornish language, cider, Stonehenge, Dartmoor, the legends of King Arthur and Glastonbury Tor, to which some believe the Holy Grail was brought.\n",
      "During their trip to Scotland, Prince William and Kate Middleton met with several organisations working with local young people to support their mental health, including the Outfit Moray team at Burghead Primary School.\n",
      "Prof Brown was what in Scotland is called a \"Bonnie Fechter\" - someone willing to stand up for people and fight for a good cause.\n",
      "In the 21st century Scots have held a whole range of very senior leadership positions, up to and including that of prime minister in Gordon Brown.\n",
      "=================================================================\n",
      "22\n",
      "size: 27\n",
      "And this is nothing new.\n",
      "But there is nothing especially interesting or new, either.\n",
      "And that it's a non-story is a pretty interesting story.\n",
      "It is not a sequel, but a new story entirely.\n",
      "It's not like this idea is new.\n",
      "The story itself is not new.\n",
      "This is not, in itself, a new idea.\n",
      "As if there's nothing really new except the story.\n",
      "I don't think it is really anything new.\n",
      "This is nothing new, but it has generated some interesting discussion:\n",
      "=================================================================\n",
      "23\n",
      "size: 6938\n",
      "Additional reporting by Brendan O'Brien in Madison, Wisconsin.\n",
      "Additional reporting by Joachim Dagenborg, Gwladys Fouche, Terje Solsvik and Alister Doyle in Oslo, Tom Miles in Geneva and Carlos Vargas in Bogota; Writing by Angus MacSwan and Helen Murphy; Editing by Kieran Murray and W Simon\n",
      "Reporting by Josiane Kouagheu; Writing by Tim Cocks; Editing by Peter Cooney\n",
      "Additional reporting by Nivedita Bhattacharjee in MUMBAI; Editing by Frank Jack Daniel and Jeremy Laurence\n",
      "Reporting by Noel Randewich, additional reporting by Stephen Nellis; Editing by Tom Brown\n",
      "Reporting by Ben Klayman, editing by Gerald E. McCormick and John Wallace\n",
      "Reporting by John Crawley; Editing by Carol Bishopric, Phil Berlowitz\n",
      "According to Marian Wilkinson, the author of the Sydney Morning Heraldreport, the latest documents include former “Top Secret” and “Secret” US records on the massacres, collected by a Washington researcher, John Kelly, for a lapsed documentary project.\n",
      "Reporting by Carey Gillam in Kansas City, Missouri; Editing by Bill Trott and Eric Walsh\n",
      "Reporting by Geert De Clercq; Editing by Leigh Thomas\n",
      "=================================================================\n",
      "25\n",
      "size: 566\n",
      "20 (UPI) -- Crude oil prices slid marginally Wednesday morning, holding above $93 per barrel in New York with traders focused on the fate of sanctions against Iran.\n",
      "The price of benchmark U.S. oil rose $1.23 to $83.51 per barrel in electronic trading on the New York Mercantile Exchange.\n",
      "New York's main contract, light sweet crude for February delivery rose $1.66 from Friday's close to reach $101.34 a barrel.\n",
      "US benchmark West Texas Intermediate for August delivery gained $US1.25 to close at $US101.20 a barrel on the New York Mercantile Exchange.\n",
      "Benchmark U.S. crude oil for April delivery rose 18 cents to $61.67 a barrel Tuesday.\n",
      "Brent crude slipped 22 cents, or 0.4%, to $59.03 a barrel this morning, while US oil was down two cents at $55.083 at barrel.\n",
      "U.S. benchmark crude settled down 95 cents (U.S.) at $49.14 a barrel, clawing back some ground lost immediately following the announcement of the agreement in Switzerland following days of intense discussions.\n",
      "In energy markets, benchmark U.S. crude oil lost 29 cents to $40.46 per barrel in electronic trading on the New York Mercantile Exchange.\n",
      "Brent crude futures, the international benchmark for oil prices, were down 3 cents at $64.87 a barrel at 10:36 a.m.\n",
      "The price for Brent crude opened the day in New York at 1.5 percent below the previous close to $47.58 per barrel.\n",
      "=================================================================\n",
      "30\n",
      "size: 4010\n",
      "Although inventories of crude and refined oil products in developed nations rose in April, they remain at a \"wide\" deficit to their five-year average and \"tight by historical standards,\" the report said.\n",
      "According to the latest data from the Motion Picture Association of America, U.S. film and television services exports in 2010 were $13.5 billion, down 2 percent from 2009 but up 6 percent over 2006.\n",
      "The low figure, around a tenth of the usual monthly total, is the result of cargoes not being cleared by customs in December in a bid to hold down 2019 imports to levels around the same as those in 2018.\n",
      "China accounted for about a third of New Zealand's milk powder exports in the 12 months ended May 31, according to ANZ data.\n",
      "However, the country still accounts for about a quarter of global steel exports and about half of the world's spare steelmaking capacity.\n",
      "The reduction in the deficit was 'primarily explained by the contribution of North Sea revenue and activity', the report concluded.\n",
      "Exports to the United States declined at an average annual rate of 3.6 percent in the first 10 months of 2007, after growing 13.4 percent the previous year.\n",
      "In the first quarter of this year, for example, our trade imbalance was $22 billion less than it was a year earlier.\n",
      "EBITDA of $730m came in 7% below JPMe due to higher than expected costs, primarily at Herradura due to the disruption caused by the suspension of its explosives permit.\n",
      "Germany is starkly ill-equipped for military action, its army chief has said, despite having one of the biggest defence industries in the world, with 9.35 billion euros worth of weapons exports in 2021 according to government data.\n",
      "=================================================================\n",
      "35\n",
      "size: 5398\n",
      "The decision on location is not the end of the process, it is the start of one.\n",
      "But the main focus of the story is not really about them.\n",
      "This lets them know that books are written by people, not by machines.”\n",
      "However, this event is more than language and literature; it's about community and compassion.\n",
      "It's the envy of the world and its reputation for fair, impartial reporting is second to none.\n",
      "However, the psychological predictors of conspiracy beliefs may be the same whether an official explanation has been established or not.\n",
      "This includes the numbers dialed and the duration of calls, but not the content of calls.\n",
      "Allegations, mind you, not convictions.\n",
      "Ok, ok, this is a show that's all about plots, but that doesn't mean it should be defunct of its own.\n",
      "In addition, unless otherwise specified, otherwise the response is cacheable.\n",
      "=================================================================\n",
      "38\n",
      "size: 5390\n",
      "But the other three gauges - complexity, interconnectedness, and global activity - are measured just once annually, on New Year's Eve.\n",
      "They think the chances of Erdogan shifting his position before July 11 are as good as zero and are already thinking beyond that summit.\n",
      "There would be some more failed experiments in the coming years, and then the triumph of 1975\"s Blood on the Tracks.\n",
      "During the period of the first year, Ginny and you can Marcus’s dating evolves somewhat. That doesn’t mean it’s not in the place of its problems, but it does mean that both Ginny and you may Marcus have grown a great deal while the very first occurrence.\n",
      "But Data also seems to have a new purpose now: Instead of trying to find out what it means to be human, he'll now contend with how to handle aging.\n",
      "About how after a long, dark years -- one whole year, there is hope and light of better days ahead.\n",
      "Page said this will allow him and Brin to get “more ambitious things done” and “take the long term view.”\n",
      "After a week in which the big picture of the A-League's future portrayed a stormy landscape, let's focus on a small, but hugely important, detail.\n",
      "A trip to the High Court in mid-May to obtain a temporary injunction could become an annual feature of the Derby day preparations for a few years at least.\n",
      "For those who like crows, there might be at least one short-term benefit, Marzluff said.\n",
      "=================================================================\n",
      "40\n",
      "size: 4849\n",
      "For us it was his face like a mirror, reflecting our own confused and frightened thoughts.\n",
      "'Float like a butterfly, sting like a bee, his hands can't hit what his eyes can't see'\n",
      "But, ever the professional, the singer checked his face quickly before carrying on performing on Tuesday night.\n",
      "The ghoulish apparition appears in the same spot that the Black Monk, also known as Mr Nobody or 'Fred', is said to regularly stand and was where 14-year-old Diane Pritchard was dragged by an invisible hand.\n",
      "Tears welled in Tom’s eyes.\n",
      "It was a deft piece of tap-dancing but eyes are still looking at Pietersen.\n",
      "Because in front of his doorstep stood two smirking men hungrily staring at him.\n",
      "If the sight had been a ghastly one in the dull morning, what was it, now, in all that brilliant light!\n",
      "The abbot, who was small and totally bald and had more wrinkles than a sackful of prunes, opened his eyes.\n",
      "Hmmm…( blinking slowly to clear eyes, humming softly…Trollin Trollin Trollin)\n",
      "=================================================================\n",
      "41\n",
      "size: 6860\n",
      "And Rebecca Judd has once again been left baffled over the identity of her baby boys, Tom and Darcy, after taking an Instagram snap of them.\n",
      "In a now-deleted Instagram post, singer Britney Spears calls out her family on drug testing her three times a week during conservatorship. Kevin Winter/Getty Images\n",
      "The photographs were shared widely on social media while the TV presenter was in London filming The Keith & Paddy Picture Show. McGuinness wrote that her husband was due to return to their home in Cheshire that night, but he had called her to say he was \"exhausted.\"\n",
      "In a press conference on Wednesday, they revealed she was classed as a \"high-risk\" missing person immediately after her partner Paul Ansell reported her disappearance, \"based on a number of specific vulnerabilities.\"\n",
      "The 12 Years A Slave actress tweeted at Rihanna: 'I'm down if you are,' the Diamonds singer then responded: 'I'm in Pit'z.'\n",
      "LITTLE Mix star Leigh-Anne Pinnock has revealed the horrific moment a classmate told her she was \"from the jungle.\"\n",
      "The Love Island hunk, 25, is said to have been left furious when producers asked him to change his jacket and went on to brand Olivia as having 'rat-like features' - although he later passed this off as 'banter'.\n",
      "Lacey told PEOPLE: \"It is almost insulting to ask, 'When are they going to kiss and make up?' There have been some very grave disagreements between them.\n",
      "During her in-studio interview with Dr. Phil, she pointed out that seemingly arbitrary limits on her natural reach on social media can hurt her livelihood.\n",
      "There are also Ranbir Kapoor fans left heartbroken by his impending wedding. One such fan shared Shehnaaz Gill's Bigg Boss 13 dialogue \"Kya Karu main mar jau\" and tweeted, \"One more Bachelor gone into trap.. Heartbreaking #RanbirKapoor #RanbirAliaWedding. Girls be like:-\"\n",
      "=================================================================\n",
      "43\n",
      "size: 5601\n",
      "I am the host.\n",
      "I am every single colour\n",
      "I'm one of the eight players.\n",
      "So I am hanging up my brave face.\n",
      "I'm booked up for months.\n",
      "Most guys are taller than me.\n",
      "I like to dress a little different.\n",
      "I'm explosive out there.\n",
      "The name mean quality to me.\n",
      "Of course I can laugh at myself.\n",
      "=================================================================\n",
      "44\n",
      "size: 4471\n",
      "Canberra golfer Matt Millar made a mad dash across Queensland for a hit with the Canberra Raiders.\n",
      "Tiger Woods and Phil Mickelson battled their way into contention on Monday in the final round of the US Open as US leaders Ricky Barnes and Lucas Glover blundered under the pressure.\n",
      "The 30-year-old also finished the PGA Tour season with top-10s in 73.7 per cent of his starts - the highest percentage for any player since Englishman Luke Donald posted the same percentage in 2011.\n",
      "After earlier being awarded the title prematurely as a result of a miscalculation by the Association of Surfing Professionals , on November 6, 2011 Slater officially won his eleventh ASP world title at the Rip Curl Pro Search San Francisco, by winning his 4th round heat.\n",
      "In only his third appearance at the spiritual home of American golf, he won the 1997 Masters by a record 12-stroke margin.\n",
      "He ranks eighth on the career win list, needing 14 more wins to eclipse Kentucky's Adolph Rupp and tie Connecticut's Jim Calhoun.\n",
      "The $US2 million event is the penultimate leg of the LPGA Tour's five tournament Asian swing which has seen Ko retake the top spot in the world rankings from South Korea's Park In-bee after two top five finishes and a win in Taiwan last week.\n",
      "Tiger Woods finished the first round of the Genesis Open six shots off the lead after returning to the Riviera Country Club for the first time in 12 years.\n",
      "It's startling to think that Ko's been winning tour titles since she was 15. By 18, she was already in double figures. Tiger Woods was 20 when he won his first, McIlroy was 19 and Annika Sorenstam was a positively ancient 24 when she nabbed the first of 72 LPGA wins.\n",
      "The 141st British Open begins Thursday at the Royal Lytham and St. Annes Golf Club in England.\n",
      "=================================================================\n",
      "45\n",
      "size: 5691\n",
      "We have to be honest and say that every player has to do more.\n",
      "This problem is so big we may all have to make changes.\n",
      "This applies, too, for our whole human species.\n",
      "It's about letting go of all the different fantasies that fill up our minds.\n",
      "\"We believe that everyone around the world deserves good privacy controls.\n",
      "So I'm all for an assault on empire and capitalism.\n",
      "All of this to our eyes definitely give off an aura of superiority.\n",
      "We are realizing that ultimately, all of this software is built for people.\n",
      "We can't rest until we have safe sushi of all types, all across this great land.\n",
      "But the anonymity of everyone, we enjoy that.\n",
      "=================================================================\n",
      "46\n",
      "size: 6725\n",
      "The debate centres on the question of whether the UK should put in place a nationwide fibre network and, in its consultation, Ofcom lays out some of the options for the UK as well as suggesting ways in which such a network should be regulated.\n",
      "They noted that they regard their Whitehall colleagues as having \"extra responsibility\" to \"set an example\" to satellite offices up and down the UK and in UK government sites overseas. They said that they \"feel very let down.\"\n",
      "Barack Obama's visit to Britain, brings with it plenty of chatter about the so-called \"special relationship\" between the United States and the United Kingdom.\n",
      "Meanwhile the Prime Minister is expected to highlight the UK-wide nature of the Royal Navy shipbuilding project and that it demonstrates how intertwined Northern Ireland's economy is with the rest of the UK.\n",
      "If the Government wants to stop dangerous boat crossings, negative headlines and voter concern, it would allow a safe corridor from France to the UK for the relatively small number of people who want to come to the UK to make an asylum claim.\n",
      "\"Health has become a very important issue. We want to start taking Ugandan nurses to the UK for work. Ugandans are English speakers which is an advantage to them, he said.\n",
      "And despite science being a collaborative industry, he believes \"political\" Brexit has caused scientists in other countries to look down on the UK.\n",
      "'This was an opportunity for the UK to show leadership. The eyes of the world would be on the UK and the UK media would be looking for environmental stories to coincide with that conference.'\n",
      "It considers that the UK ' s legal framework on industrial action is fully compatible with the European Social Charter and the UK ' s other international obligations regarding trade unions.\n",
      "But \"despite doing an excellent job in winning public opinion round,\" Britain now found itself reliant on the likes of France's EDF to build the next generation of nuclear plants.\n",
      "=================================================================\n",
      "49\n",
      "size: 8657\n",
      "Total area: 140\n",
      "Duration: 00:31\n",
      "- Number of students: 200\n",
      "Lead Time: 6 months\n",
      "Source: All About Samsung\n",
      "Further information: Dental care\n",
      "Labels: Inside Annapolis\n",
      "Topic: annoying\n",
      "Width of guard: 3.75\"\n",
      "You are here: Home Services Visa Assistance\n",
      "=================================================================\n",
      "51\n",
      "size: 4177\n",
      "- The winner is solely responsible for paying any and all applicable taxes.\n",
      "New F-15C campaign and single missions.\n",
      "(Note: Only two teachers will be selected from each location.)\n",
      "It will rely on digital downloads alone.\n",
      "The site is only available to adults.\n",
      "- an identifying symbol or name for a particular good and can only be used by the firm that registered that trademark\n",
      "Prior to that moment, we only corresponded through email.\n",
      "Our leases state the flats should only be used for private or professional residence.\n",
      "German-language ads, for example, will still only show in countries where German is supported.\n",
      "An abstraction is a way of hiding the implementation details and showing only the functionality to the users.\n",
      "=================================================================\n",
      "53\n",
      "size: 5721\n",
      "what does an antihypertensive drug do not be an idea to the same reality and follow-up of medication.\n",
      "You may easily get fish oil supplements from a reputable online retailer without having to worry about the fish oil capsules price. However, do not use any supplements without first consulting with a healthcare professional.\n",
      "What qualifications have you got?  zoloft mot angst erfaringer  \"He's very lucky. FedEx has a tradition of flying odd critters around, having ferrie\n",
      "This 250mg full-spectrum CBD oil is just what you’ve been waiting for.\n",
      "Healthy.io's Minuteful Kidney test kit, which is the first and only FDA-cleared smartphone-powered at-home kidney test, allows for early detection of CKD by enabling patients to take a clinical-grade albumin-to-creatinine ratio (ACR) test in their own homes using a smartphone camera. Healthy.io's ACR test is a simple urine test that looks for albumin in urine, which can be a leading indicator for CKD. It is the only test on the market that allows patients to take the test - and receive results - in the comfort of their homes.\n",
      "most popular CBD gummy shape wellness CBD gummies wellness CBD gummies 3mg Xanax CBD oil CBD gummies with 3 THC Alabama ag CBD oil CBD gummy bears CBD gummy mystery box.\n",
      "The short answer is no. When you consume cannabinoids in the form of CBD oil for sleep, the molecules of these unique substances bind to the endocannabinoid receptors in your nervous system.\n",
      "Golden Revive Plus – Your Joints, Muscles and Nerves will immediately begin to heal Fast\n",
      "chemistry of Alli diet pills, it what are weight loss pills is not recommended by the reason why it is a natural and effective.\n",
      "It's important to have Cbd Oil For Sale Mentor Ohio a broad spectrum CBD product that is the best.\n",
      "=================================================================\n",
      "55\n",
      "size: 9042\n",
      "\"But again, I'm encouraging our businesses, you don't have to wait, you can go ahead and activate,\" Cantrell said. \"Don't look for reasons to be the exception. Don't look for the loopholes. Look for your vaccination card and be prepared to show it.\"\n",
      "\"We have robust contingency plans in place,\" Dickson said. \"At this point in time, I'm not seeing any impact on safety and we will work to make sure that the airspace is open and available for the traveling public.\"\n",
      "“All we know is, if there had been a change (in storm activity), it would not have been detectable, using digitized ship records,” Emanuel says “So I thought, there’s an opportunity to do better, by not using historical data at all.”\n",
      "\"We have not seen the formal decision and we'll wait for it to come out before making comment,\" Vinnik's lawyer Alexandros Lykourezos said.\n",
      "A spokesperson stressed that this wasn’t the end to Uber’s driverless vehicle plans, but that you might have to wait.\n",
      "Whether the cut-off length of the continuing trial should be six months, as the representative of the United Kingdom suggested, or not is a question on which we would want to reflect a little bit more.\n",
      "\"Mauna Kea remains our first option but we are studying a list of sites, some of them new, which will serve as a plan B if the TMT cannot be built in Hawaii,\" explained spokesman, Scott Ishikawa.\n",
      "\"The more likely scenario is that company chiefs can't understand why we can't always stop damaging media. But journalism hasn't been weakened.\"\n",
      "A statement Tuesday from supporters of the ordinance read \"We are disappointed with today's outcome, but our work to secure nondiscrimination protections for all hard-working Houstonians will continue.\n",
      "\"We are deliberately data-dependent and we have an open mind as to what the decisions will be in September and in subsequent meetings,\" Ms. Lagarde said. \"We might hike and we might hold. And what is decided in September is not definitive; it may vary from one meeting to the other.\"\n",
      "=================================================================\n",
      "58\n",
      "size: 7897\n",
      "Gladbeck has 150 refugee preschoolers.\n",
      "About 200 households and hobby farms remain.\n",
      "The festival continues until October 16 and features 355 films.\n",
      "So far this year a total of 2,757 have signed up.\n",
      "For example, it is home to around 100,000 people.\n",
      "More than 60 patent applications were filed, of which 41 were authorized.\n",
      "From that day on, the Grotto has received thousands of pilgrims from around the world.\n",
      "Their online petition has had more than 11,000 signatures.\n",
      "June 2017 - including more than 2,000 in the most serious category.\n",
      "Ten staff members from the DPRS participated in this training programme.\n",
      "=================================================================\n",
      "59\n",
      "size: 5709\n",
      "Leadership is not bribing multinationals and stealing jobs from one's neighbours,\" she said.\n",
      "\"I will not vote in support of these divisive actions,\" Scalise said in a statement.\n",
      "\"This is not a joke, it is a vital public safety asset and to see one stolen is unforgiveable,\" he said.\n",
      "He has also said that while they do not have any \"personal fight\" with Ms Murmu, the election is \"a battle of issues to save the Constitution of India.\"\n",
      "\"It doesn't matter the order of them. You're going to fight them.\n",
      "That's not xenophobia,\" Zungu said.\n",
      "\"Merely creating the potential for liability for some abortions is not a ban,\" Mr. Paxton wrote.\n",
      "The activist warned that Cop26 was not just about \"these delegates and their negotiations - it's about all of us.\"\n",
      "A senior Government source said: \"This does not change any of the obligations Royal Mail is under.\n",
      "\"We don't want it to appear to be a war zone, because it's not,\" she says.\n",
      "=================================================================\n",
      "60\n",
      "size: 1709\n",
      "\"It's just a case of getting the right horse and, on this occasion, the right jockey,\" the Newmarket trainer said.\n",
      "Here's the twist: every horse he has raced since, including Ocean Billy, is a descendant of Flying Beau.\n",
      "He's such a unique horse pedigree-wise he's kind of irreplaceable really.\n",
      "\"I'm sure there might have been a horse in the world that over the past three years that could have beaten her on a given day. That same horse wouldn't have beaten consistently over that three years,\" Waller said.\n",
      "In summary, we have tried to reach a balance between minimising avoidable risk and providing as many opportunities as possible for horses to be able to run.\n",
      "\"If we can't get racing within a month I will probably send my horses into town for a \"mock race\" just to keep their fitness up.\"\n",
      "When those horses came to him - I cannot believe he won this race.\n",
      "As he was such a good racehorse, he continued that form, from his breeding and temperament, into the new job and he's transferred that on to his progeny as well.\n",
      "He has few miles on the clock and is a Group class horse running in a handicap, albeit a very classy one.\n",
      "But I have only actually been with another horse once on him and it wasn't much good, so he picked up easy.\n",
      "=================================================================\n",
      "61\n",
      "size: 5172\n",
      "'They are clean,' AirNav Indonesia's safety and standard director Wisnu Darjono said of the company's employees.\n",
      "The MP for Kingston upon Hull West and Hessle said: \"I have just walked through and there are a lot of people working, around six or seven. Lots of blankets on the floor and a machine, which I'm not quite sure what is doing. It the leak] is just in front of the dispatch box, but the roof looks fine.\"\n",
      "A field in the village of last night northern Russia these factory workers from the city are glad to be here picking potatoes because each gets to take some home.\n",
      "Jake Corkery, a worker at a business on the street, told the Seven Network people nearby rushed to help the man.\n",
      "Across from our Midtown hotel is an office high-rise that's better than a zoo, the workers entering their glass cages in the morning for all the world to see.\n",
      "The infected list also includes lesser-known White House staff who simply showed up to work as press aides and personal valets.\n",
      "After an outcry from liberals and worker groups, the Labor Department under then-Secretary Alexander Acosta agreed to rework the rule.\n",
      "In a conference call with analysts, Walgreen CEO Greg Wasson said that most of the locations will be near existing Walgreen stores and that employees from these store will be largely reassigned.\n",
      "\"We need a regional approach\" to combat homelessness, the Washington State Labor Council wrote in a letter Tuesday, joined by unions that represent home healthcare workers, hospital workers, public school teachers, truck drivers, janitors, firefighters, supermarket workers and others.\n",
      "It said the livelihood of its 782 employees and contractors depend on the continuation of the mine, and the approval of the expansion would provide job stability for many years.\n",
      "=================================================================\n",
      "62\n",
      "size: 5622\n",
      "Soon after Karan Johar shared the post, fans flooded the comment section. A user wrote, \"Love love love one of the best film,\" while another wrote, \"Except love have nothing to say about this movie. Thank you karan sir for giving us this. My favorite movie for lifetime.\"\n",
      "Some of those sharing the screenshots on Twitter theorized that Alba's account had been hacked. \"Jessica Alba did not carry the entire Fantastic Four franchise on her back to get hacked in her sleep while she was just trying to sell us multi-vitamins,\" one person wrote.\n",
      "Christine Pai, a spokesperson for Instagram's owners Meta, spoke to The Independent saying: \"There is no way for Instagram users to see who is viewing their profile the most on Instagram.\n",
      "\"They do calendars with girls in their underwear. And boys in their boxers, or whatever. I haven't seen [Sarah's OnlyFans], but unless she's naked I don't understand why they've got a problem with it, because they were promoting it in that way.\"\n",
      "I'm actively working toward losing weight and I've made progress but I'm still obese as I'm typing this,\" she began the post, which was shared to Reddit on 19 December.\n",
      "However, Burger King replied: 'Why would we delete a tweet that's drawing attention to a huge lack of female representation in our industry, we thought you'd be on board with this as well?\n",
      "Another social media user called Mary then tweeted Lisa, saying: \"I'm no expert and it has a look of a coconut fat feeder; but that would be unusual to find hanging over a footpath. I really hope someone can shed a light on this.\"\n",
      "Vonn, an Olympic skier explained in a Facebook post that \"both lead incredibly hectic lives that force us to spend a majority of our time apart.\"\n",
      "But Rowling, 56, took to Twitter to write: 'it's a donkey, though', with several other internet users failing to notice either a fish or a mermaid.\n",
      "\"Deepika,\" runs the editorial addressed to actress Deepika Padukone, \"just for the record, we do not zoom into a woman's vagina or show her nipples.\"\n",
      "=================================================================\n",
      "63\n",
      "size: 5170\n",
      "Kejriwal and Mann also paid floral tribute at Jallianwala Bagh memorial and offered prayers at the Durgiana Mandir and the Sri Ram Tirath Mandir.\n",
      "Some traditions observed on Memorial Day include hosting cookouts and holding parades, visiting cemeteries and memorial sites, the laying of a wreath at the Tomb of the Unknowns in Arlington National Cemetery, and laying of flowers and insignia on the graves of fallen soldiers.\n",
      "This June, all eyes are on New York as the Big Apple hosts WorldPride and commemorates the 50th anniversary of the Stonewall uprising.\n",
      "Elsewhere, Ohio's statehouse displayed nearly 3,000 flags - representing the lives lost - in an arrangement designed to represent the World Trade Center towers, with a Pentagon-shaped space and an open strip representing the field near Shanksville.\n",
      "It is not, as the cynical Left would have you believe, a celebration of militarism or imperial power, but a thankful tribute to those who fought and died down the generations to keep this country free.\n",
      "The George Cross is the civilian counterpart of the Victoria Cross and the highest gallantry award for civilians as well as for military personnel in actions which are not in the face of the enemy or for which purely military honours would not normally be granted.\n",
      "Only two statues were taken down immediately, in Gainesville, Florida, where the Daughters of the Confederacy removed a statue of a Confederate soldier known as \"Ole Joe,\" and in Durham, North Carolina, where protesters used a rope to pull down a Confederate monument dedicated in 1924.\n",
      "It was Friday 22 November, the 50th anniversary of John F Kennedy's assassination, and the papers were full of nostalgia for the nation's lost innocence.\n",
      "Bastille Day on July 14 commemorates the day the French people took over the Bastille prison in Paris in 1789, which led to the French revolution.\n",
      "VE Day is the anniversary of the day when the Allied leaders formally accepted Nazi Germany's unconditional surrender, ending the war in Europe.\n",
      "=================================================================\n",
      "64\n",
      "size: 5887\n",
      "These type of jewelry appraisers with a retail or resale stake in the industry may spend more effort sizing you up than evaluating your property, said Atlas.\n",
      "Companies will then need to align their offerings to fill these \"value leakages\" and design clinical trials to develop evidence that is compelling for payers (e.g., through head-to-head or adaptive trials).\n",
      "Having a plan will also ensure that you pay attention to both the broad operational and financial objectives of your new business and the details, such as budgeting and market planning.\n",
      "The company will operate independently from Abertis, which will use the cash to expand its toll road network and pay more money back to shareholders.\n",
      "The company has tried several approaches to boost revenue and cut costs further, including relaxing some of its policies that ban political advertisements and adding a more expensive ad-free subscription option to the platform.\n",
      "- Rate include wealthy, even though they’re also negotiated, and also rely upon a state’s guidelines plus relationship with the shop.\n",
      "One potential offer the union could make involves a significant expansion of revenue sharing among the clubs as a way of shoring up the finances of troubled teams.\n",
      "HIPC Finance Ministers have recently called for a more dramatic streamlining of conditionality and for judging compliance with conditions against overall trends and efforts rather than individual performance criteria.11 With a view to allowing HIPCs to define alternative paths to poverty reduction in a context of growth, HIPC Finance Ministers have drawn attention to some elements of macroeconomic conditionality that appear to focus on reducing inflation at the expense of growth and employment.\n",
      "By coming up with an investor agreement which further protects you against anything like expropriation and change or changes in law, which is quite great.\n",
      "The fact that the BoE and others are relearning that finance and macroeconomics need to be analysed together is welcome, if long overdue.\n",
      "=================================================================\n",
      "66\n",
      "size: 5786\n",
      "Her theatre background remains crucial, she says: \"oh my God, 100 per cent.\n",
      "Daria said, \"She's right.\n",
      "She said: 'He said \"she's fine, she's fine, she needs some water.\n",
      "\"Nicole thought they'd click,\" the person adds.\n",
      "However, \"there is still a lot in play,\" she added.\n",
      "\"Then she got really serious,\" Dr. Etheridge said.\n",
      "\"You've got quail,\" I tell her.\n",
      "\"When we go on about \"hand-painted, hand-dyed,\" it's real,\" she said.\n",
      "She noted that the student actually meant to write \"tuff.\"\n",
      "\"Gross,\" Jayakar said, under her breath.\n",
      "=================================================================\n",
      "68\n",
      "size: 6449\n",
      "Here's a great guide over at Search Engine Journal from Julia McCoy, where you can learn more about using this tactic as part of your strategy.\n",
      "Next thing you need is a domain spam check: see whether your website is currently on the list. There are a number of services you can use to do it:\n",
      "Steer clear of purchasing on websites that aren’t acquainted or have zero online consumer testimonials. Regardless how very much you might want to buy their merchandise or how reduced their charges are, you simply don’t know what you’re getting into. Save your web store shopping dollars for your well-known and trustworthy web sites that keep the details harmless.\n",
      "When shopping on the internet, you have to be additional mindful if you are using your cellphone to purchase on the web. Using a open public Wi-Fi can keep your individual prone to online hackers. Try and just use your guaranteed network when you shop online utilizing a cellular phone and do not utilize a general public Wi-Fi very hot spot to retail outlet.\n",
      "Don’t just save bookmarks from your site. Save other great articles in your niche to look natural.\n",
      "- You win more conversions on Bing. Experts have observed exactly what our analysis shows: A well-optimized website has a higher conversion rate on Yahoo and Bing than Google. In our case, the difference was about 20% vs. 16.5%. If you're already optimized for all three search engines, check your own Google Analytics data, and you'll likely find similar results.\n",
      "See which pages and traffic sources drive the most conversions so you can keep doing what’s working and find areas for improvement.\n",
      "If your site is mobile-friendly, then it’s adaptable to the screen of any of your site visitors that are browsing the internet from their phone.\n",
      "With internet job sites, timing plays a big role. It may happen that you post a position and get very few responses. Then, you re-post the same ad again 3-4 weeks later and get a slew of applicants. Or, you may get nothing the second time around and need to re-visit the content of your ad or the title of your position.\n",
      "Being active on your website or social media profiles is very important if you want to increase conversions and gain the trust of your audience. If you are not giving enough time to your website, people will easily notice it which can affect business negatively.\n",
      "=================================================================\n",
      "69\n",
      "size: 5071\n",
      "A Democratic state senator who voted in favor of a gas tax has faced a well-funded recall effort.\n",
      "Republicans will know just how to exploit the subject heading into Midterm elections.\n",
      "She's also a first, and Democrats like the tingles up the leg.\n",
      "For Democrats, the time for real panic will come if those retirements create a domino effect among other vulnerable Democrats.\n",
      "Which brings me back to those Republican freshmen.\n",
      "Democrats say the GOP proposals aim to curtail participation by minorities and poorer Americans.\n",
      "I know a number of members of Congress were moved by that as well.\n",
      "There are currently 53 Republican senators and 45 Democrats, plus two independents who caucus with Democrats.\n",
      "We would have had to have all the Democrats in the Senate agreed to do that.\n",
      "She's now one of two deputy campaign managers for the reelection race.\n",
      "=================================================================\n",
      "70\n",
      "size: 5594\n",
      "Discussing the letter Trump's legal team sent to Garland, Tristan Snell, a lawyer and former assistant attorney general for New York state, tweeted: \"You don't send your lawyers to meet with a prosecutor who's not planning to indict you. If Trump's lawyers are requesting a meeting, it's because the DOJ has let Trump know he's a target - and he's about to get indicted.\"\n",
      "Still, there's no arguing that Clinesmith did something very unprofessional and very wrong. It's just more consistent with a junior lawyer trying to placate a supervisor who wanted a quick black-and-white answer than with a broad conspiracy aimed at Trump.\n",
      "A Justice Department spokesman would not say whether he had been suspended but said that Mr Ruddy, while still employed, was removed on 11 July from his supervisory role at the US Attorney's Office in Tampa. The case also has been referred to the Office of Inspector General.\n",
      "Johnson, a Republican from Wisconsin, would not say if his committee would hold oversight hearings on the matter or would follow up with letters to Trump, but said: \"We are definitely going to follow up on it.\"\n",
      "This is the problem. The intelligence-community statute also says that there is no judicial review to challenge actions by the director of National Intelligence or the inspector general. And so I think it will be an uphill battle for the House Intelligence Committee to go to court and argue that a court can order the acting director of National Intelligence to transmit the report to Congress.\n",
      "\"Obviously the attorney general in this state is taking marching orders from him, which is embarrassing considering he's not even elected,\" Clemmons told HuffPost, referring to Walsh.\n",
      "Barr knows the Justice Department from his time as attorney general under President George H. W. Bush. And while Democrats acknowledge his previous experience, many insist the current situation is unprecedented, and have been in lockstep demanding assurances from Barr that the Mueller report be made public and that he not interfere or limit the special counsel.\n",
      "Despite that agreement between Weinstein and the pretend Dunn, Weinstein has been doing the opposite through his representatives, most recently denying any non-consensual sex in response to the New Yorker report.\n",
      "First, the judiciary or Congress could refer the case to the Justice Department for prosecution for criminal contempt. It plainly would be contempt for a President -- or any person -- to simply defy a final court order. That said, current Justice Department policy counsels against indicting a sitting President, likely rendering this option toothless.\n",
      "When Bushra tried to get Elsayed released from custody, the lawyer said, the government cited Elsayed's statement about Trump as evidence that he is a danger to society and should not be released.\n",
      "=================================================================\n",
      "73\n",
      "size: 5090\n",
      "Litton also exudes an all-American sunniness.\n",
      "Arcadis' growth reflects well upon efforts to put people first\n",
      "Bryn Terfel is used to making a dramatic impact, but it is usually by his own merits.\n",
      "Remembered for his miracles, he is one of Bulgaria's most influential spiritual leaders.\n",
      "The first impression of the all-new XJ is its visual assertiveness.\n",
      "Psilocybin performed very favourably in this head to head.\n",
      "Respectful friendship ... Crown Prince Mohammad bin Salman and Lindsay Lohan.\n",
      "He is a revered revealed leader and is deeply respected by the people of India.\n",
      "It's a cliché, but the Limerick supporters are the best in the world.\n",
      "The man in charge of the officials went on to praise the efforts of the men in charge at the MCG.\n",
      "=================================================================\n",
      "74\n",
      "size: 6233\n",
      "Can he save Detroit?\n",
      "When will the ISS pass the UK on Christmas Eve?\n",
      "What's next for construction after HomeBuilder?\n",
      "Where will English football be in another 10 years\" time?\n",
      "Can the Lions come back?\n",
      "Are beards about to go out of fashion?\n",
      "Imagine if that happened at Monaco coming out of the tunnel?\n",
      "Week in Week Out, The Big Welsh Land Scandal?\n",
      "But what does the future hold for the former WBA champion?\n",
      "Vital Signs: what will end up in Scott Morrison’s ‘good’ books?\n",
      "=================================================================\n",
      "78\n",
      "size: 5764\n",
      "The variant contains more than 30 mutations to the spike protein that allows the virus to enter the body.\n",
      "In the case of vitiligo, we believe that the immune system probably sees the person’s own pigment cells as foreign bodies, and attacks them, destroying them or weakening them.\n",
      "Troops have also been spraying disinfectant on the rubble and in survivor camps - an attempt, they say, to reduce the risk of disease breakouts.\n",
      "The good news is that the vaccine covers all four strains of the disease, showed protection against severe dengue and a reduction in the risk of hospitalisation.\n",
      "Two other major clinical trials are currently testing HIV vaccines on participants in Europe, South America, and Africa, reports The Seattle Times. One involves a combination of genes from multiple HIV strains. The other aims to use broadly neutralizing antibodies capable of killing many different strains as a preventive strategy against infection, though some researchers say they think the response lacks the speed and power necessary to cure the disease.\n",
      "Until now, colistin resistance resulted from chromosomal mutations, making the resistance mechanism unstable and incapable of spreading to other bacteria.\n",
      "The drug-resistant strain of the bacteria, known as ESBL, was discovered in the unit at the end of last month.\n",
      "The tests measure the number of CD4 cells in your blood (your CD4 count) and the amount of HIV in your blood (the viral load).\n",
      "They are harder to study than antibodies, but are known to be a crucial part of the immune system.\n",
      "It's unknown why HPV infections are more common in men than in women, but some studies suggest that men's immune systems don't respond as strongly to fight off HPV infections as women's systems do.\n",
      "=================================================================\n",
      "79\n",
      "size: 4851\n",
      "Near and dear to my heart\n",
      "Now, for one night, me.\n",
      "The image in my mirror has changed.\n",
      "My shiny and grainy nose.\n",
      "As I behold you, infinite in power,\n",
      "My name is Chaz Bear.\n",
      "This is my turf and it has a boss.\n",
      "That's practically been etched into my DNA by now.\n",
      "With all that being said, I take my hat off to the Chinese.\n",
      "For he to-day that sheds his blood with me.\n",
      "=================================================================\n",
      "80\n",
      "size: 6781\n",
      "He said Depp has previously been open about his drug-taking history.\n",
      "After one more conversation, Liu Guangbao raised the example of Tang Fuzhen.\n",
      "This was paraphrased from her TED Talk.\n",
      "He spoke to Chief Football Correspondent Jason Burt.\n",
      "Nick's serve speaks for itself.\n",
      "The ministers reported this to the king.\n",
      "McNutt said he was preparing a forceful response.\n",
      "Gordon tried to steer the discussion back to the book.\n",
      "Rapinoe then addressed men specifically.\n",
      "A couple months later came the press conference.\n",
      "=================================================================\n",
      "81\n",
      "size: 6573\n",
      "“They don’t really have a choice in what medicine they get, and they’re not asked if they’d want a tablet or a capsule or a liquid,” she says.\n",
      "Epidural pain relief does not prevent all sensation, but aims to keep discomfort at a manageable level while avoiding many of the potential complications of general anaesthesia (which puts the patient into an unconscious state).\n",
      "Unlike a hay-fever injection, this process means the allergen does not pass into the bloodstream.\n",
      "- Event No Exchange, Same Pain, No Gain - Risk-Reward of Wearable Healthcare Disclosure for Receiving Pain Treatment\n",
      "Although an important point to note here is that those suffering from a G6PD deficiency, should not consume these beans as they may lead to another blood disorder called hemolytic anemia.\n",
      "MHA is not alone among care home operators in feeling that the gravity of what they and their clients are facing has not yet been recognised.\n",
      "Antibiotics do not fight infections caused by viruses, such as colds and flu, nor do they combat bronchitis, most coughs or sore throats.\n",
      "J&J isn't the first frontrunner in the race for a vaccine to halt a late-stage trial due to an unexplained illness.\n",
      "Just remember, doctors almost never pin down a single, precise cause for cancer.\n",
      "Not recommend circuit training for longer than 30 minutes – there is a risk to burn muscle.6.\n",
      "=================================================================\n",
      "82\n",
      "size: 6606\n",
      "Near-term, though, we expect an increasingly difficult trading environment for education and financial in 2009.\n",
      "Doubts about the fiscal soundness of the government's economic plan continue to reverberate in the financial markets. Ms. Truss's latest comments came after the British pound slumped again against the dollar, fueling speculation that the government might delay, water down or scrap its free-market proposals.\n",
      "On top of this, the manufacturing sector is facing a bevy of margin-thinning challenges: rising labor costs, government policies aimed at moving manufacturers up the value chain, stronger enforcement of environmental regulations, and more stringent requirements for product safety.\n",
      "Of course, the fundamentals could fall somewhere in the muddled middle, with a so-so economy and global troubles that fall just short of bloodshed.\n",
      "Mr Bahati said Uganda's debt ratio is far below the 50 per cent threshold, which experts have warned would be disastrous if it hits or goes beyond this mark.\n",
      "However, with the Great Depression setting in and the Western countries launching economic blocs by involving colonial economies, Japan's economy suffered a major blow.\n",
      "So, like Americans everywhere, people here are cutting back on spending, and that's threatening to send - or has already sent - a shaky economy into recession.\n",
      "ALAN KOHLER: There’s a nervousness about the housing market, job security and wages that’s playing out across the country.\n",
      "A shock fall in headline inflation to just 0.7 per cent last October sparked fears among economists, not least because those countries that have been most affected by disinflation so far are among those with the highest sovereign debt burdens.\n",
      "Issues might have gotten worse economically, he added, “however the FedEx-specific issues crept in.”\n",
      "=================================================================\n",
      "87\n",
      "size: 4375\n",
      "We've got to level out their performance.\n",
      "\"We will do what's necessary to find out if it's true.\"\n",
      "We've got to weigh up who's fresh.\n",
      "We need something different, and we need to get moving as a league.\n",
      "We're not up to scratch at the moment and we need to be.\n",
      "\"We all need to jump in.\n",
      "We are taking all the action that is necessary.\n",
      "We do need to make sure that we're absolutely not complacent.\n",
      "That's why we have to stop them.\n",
      "But we needed the pressure, right?\n",
      "=================================================================\n",
      "89\n",
      "size: 8738\n",
      "Former Trump White House lawyer Ty Cobb\n",
      "Trump's July 2017 directive would have banned all new transgender recruits from enlisting.\n",
      "This may be known as the week President Donald Trump's own administration got involved in the fact-check game.\n",
      "Trump was among record numbers taking a gun through TSA checkpoint\n",
      "Comey wants Trump to release recordings - if they exist\n",
      "Trump has also been spotted using Scotch tape to hold together his tie.\n",
      "When he set off for the White House, Trump was treated as a joke in Washington.\n",
      "Mr. Trump has said he won't reduce Social Security.\n",
      "Donald Trump sues Deutsche Bank and Capital One to block House subpoenas\n",
      "Image copyright Reuters Image caption Mr Trump says Moscow has \"never tried to use leverage on me\"\n",
      "=================================================================\n",
      "91\n",
      "size: 20\n",
      "North America is projected to grow at the highest CAGR during the forecast period.\n",
      "North America is expected to be the world's fastest multiexperience development platforms market during the forecast period.\n",
      "The industries segment is envisaged to account for nearly 44% of the total market share by 2019.\n",
      "North America is expected to dominate the global digital health market space with a 45.9% share of the total revenue.\n",
      "In terms of geography, North America will be the leading region with 31% of the market's growth during the forecast period.\n",
      "The International Monetary Fund forecasts growth of 4.4% for the eurozone for all of this year.\n",
      "North America is Expected to Hold a Significant Market Share over the Forecast Period\n",
      "North America will contribute 44% to the growth of the global market during the forecast period.\n",
      "The gas compressors market size is expected to accelerate at a CAGR of almost 4% during the forecast period.\n",
      "North America is estimated to account for 38% of the market's overall growth.\n",
      "=================================================================\n",
      "94\n",
      "size: 8566\n",
      "Gosford Hospital\n",
      "Retinal separation\n",
      "protect DNA from damage\n",
      "Palliative Care & Hospice Services Coordination\n",
      "What is Medical Neglect?\n",
      "Tim Blackwell, MD, Vanderbilt University School of Medicine\n",
      "American Cancer Society Prevention\n",
      "Autonomic nervous system disorders\n",
      "Details on Wuhan Lab Research\n",
      "Pelareorep from Oncolytics Biotech Inc.\n",
      "=================================================================\n",
      "105\n",
      "size: 4965\n",
      "It's a huge trend at the moment - lots of celebrities like Miranda Kerr are into green smoothies and juices, and people are waking up to the fact that these things aren't bad to drink and they don't taste bad.\n",
      "That's possibly more applicable to other areas than fashion - no one needs 20 refrigerators, and no one really needs 20 jackets.\n",
      "Driving the need for a species specific formulas was that kangaroos could not digest the lactose in cow milk.\n",
      "Last year the IARC said that bacon is carcinogenic, but it became clear that when eaten in moderation it is not very risky.\n",
      "You can Liquid Libido For Women receive a couple of information about buying a product that's not parent to the door.\n",
      "They smoke a little, which they know is unhealthy, but it deadens the appetite.\n",
      "There can never be any substitute for your own palate nor any better education than tasting the wine yourself.\n",
      "Part of the reason, he said, is that women tend to avoid the high calories and salty taste.\n",
      "\"Wrinkled food ... wrinkled people ... no waste,\" Egger says.\n",
      "It's difficult to not get the recommended dietary allowance of tryptophan - it doesn't just come from turkey.\n",
      "=================================================================\n",
      "108\n",
      "size: 5739\n",
      "As the pandemic dragged on, wing prices increased by leaps and bounds, spurred by the myriad supply chain issues caused by the coronavirus - such as the several times Tyson Foods (a meat producer that estimates it butchers around 45 million chickens per week) shut down operations at major meat processing plants due to COVID-19 outbreaks, hurting supply. Ha's margins grew slimmer and slimmer. In the last few months, his wing prices have gone up an additional 75 cents per pound to $4 - double what he used to pay.\n",
      "Eggs: Unsurprisingly, a hot topic with all recommending free-range, organic brands such as Cornucopia, Walker Farm, Green Eggs and Sunny Queens Farm.\n",
      "If you’re one of the few who gain access to the remote jungle berg, at an Iquitos market you can buy snake oil and live spider monkeys.\n",
      "\"This is the product that put American Cheese on the map,\" continued Gremmels. \"As a result of that 2003 award, we pursued the first American raw milk cheese Health Certificate for export. We are grateful for our customers and the support of legislators and sponsors like USDEC who have helped bring this product to fine cheese shops and restaurants in Europe, the U.K., Australia and beyond.\n",
      "Carlos Sanchez, 39, started working at a Tyson cooked meat plant a decade ago after construction jobs dried up. He's a machine operator and says the quantity of chicken nuggets and burgers produced every shift has risen substantially since he started, while staff numbers have been cut. This can impact worker and food safety.\n",
      "The FSIS, which falls under the remit of the U.S. Department of Agriculture, protects Americans' health by ensuring meat, poultry, and egg products are safe to eat.\n",
      "18: 12 PMGrant McArthur, Kathryn Powley UPDATE: At least 28 people have been struck down with salmonella after eating pre-packaged lettuce and spinach sold at Coles and Woolworths.\n",
      "A spokesperson for Danone UK & Ireland, makers of Aptamil, as well as Cow & Gate which was the cheapest branded formula, said: \"We recognise the challenges faced by parents due to inflation. During this difficult period, we have worked very hard to absorb the significant cost increases we have faced, make savings, and minimise any price increases. Danone is proud to offer parents - who cannot or choose not to breastfeed - a range of formula milk products at different prices.\n",
      "Nevertheless, a milestone may come in just a matter of weeks with regulators in Brazil, a major importer, set to meet next month. If Brazil approves Bioceres\" wheat, the company would be able to start selling into its first market.\n",
      "Meat is the new asbestos – more murderous than tobacco.”\n",
      "=================================================================\n",
      "109\n",
      "size: 6304\n",
      "Verizon acquired Yahoo's core business for $4.5bn only 18 months ago.\n",
      "Now they drive surprise sales above $1m.\n",
      "The new package - which also hits Belarus - is aimed at £1.7bn worth of trade\n",
      "The government said international aid worth about $120 million had been promised so far.\n",
      "Public records show the unit sold for $2.9 million in 2014.\n",
      "Square is set to acquire Afterpay for $39 billion.\n",
      "Cost of fighting California's 4th-largest fire nears $75M\n",
      "The Duchy raised around £21 million ($36 million) for Charles in 2021.\n",
      "This plan will benefit 30 million families.\n",
      "The estimate was $10 million to $15 million.\n",
      "=================================================================\n",
      "112\n",
      "size: 8549\n",
      "Translation by Go Ishii\n",
      "By Micah Nemerever\n",
      "Supermodel around the world\n",
      "By Catherine O'brien\n",
      "of Nature's greatest healers.\n",
      "Change of Time by Josh Ritter\n",
      "Journal of wine from France\n",
      "derived from independent legitimate sources.\n",
      "From Somalia to Dulles\n",
      "By Brian Hutton, PA\n",
      "=================================================================\n",
      "113\n",
      "size: 4735\n",
      "Dr. Michael Blum examined the runner's heart rate readings.\n",
      "The results have now been published in the journal Nature Biotechnology.\n",
      "Scientists determined which colours are usually connected with letters\n",
      "Walsh and Goodman wanted to let their fans know what happened after the experiment.\n",
      "Some scientists think the object was a giant hunk of frozen hydrogen.\n",
      "The researchers set out to investigate three questions related to the 2017 discovery.\n",
      "The PERMA model is a model Seligman developed to explain what contributes to a sense of flourishing.\n",
      "In some studies, the sponges ended up on the deepest branch of the tree.\n",
      "A model developed by researchers\n",
      "It seems to me that all things are in alignment for a Nobel prize for this discovery.\n",
      "=================================================================\n"
     ]
    }
   ],
   "source": [
    "i = 0\n",
    "for group, texts in df_64.groupby('cluster'):\n",
    "\n",
    "    if len(texts) < 10:\n",
    "        continue\n",
    "    print(group)\n",
    "    print(f'size: {len(texts)}')\n",
    "    for text in texts['text'].sample(10).tolist():\n",
    "        print(text)\n",
    "    print('=================================================================')\n",
    "    i+=1\n",
    "    if i == 50:\n",
    "        break"
   ]
  },
  {
   "cell_type": "markdown",
   "id": "d21bcc71-fcab-4c8c-ba76-395fc2245224",
   "metadata": {},
   "source": [
    "# Sample"
   ]
  },
  {
   "cell_type": "code",
   "execution_count": 5,
   "id": "929016ae-59b4-4c8b-a824-2866c539465b",
   "metadata": {},
   "outputs": [
    {
     "data": {
      "text/plain": [
       "(376442118,)"
      ]
     },
     "execution_count": 5,
     "metadata": {},
     "output_type": "execute_result"
    }
   ],
   "source": [
    "all_clusters = np.concatenate([np.load(f'distill_corpus/corpus/corpus_{i}_clusters.npy') for i in range(8)])\n",
    "all_clusters.shape"
   ]
  },
  {
   "cell_type": "code",
   "execution_count": 38,
   "id": "11b864e7-ffab-40dd-be54-d4c577570ac6",
   "metadata": {},
   "outputs": [
    {
     "data": {
      "text/plain": [
       "(376442118,)"
      ]
     },
     "execution_count": 38,
     "metadata": {},
     "output_type": "execute_result"
    }
   ],
   "source": [
    "all_clusters.shape"
   ]
  },
  {
   "cell_type": "code",
   "execution_count": 7,
   "id": "3b2004ba-9210-48f4-9365-38d92bfdb9ef",
   "metadata": {},
   "outputs": [
    {
     "data": {
      "text/plain": [
       "count    3.764421e+08\n",
       "mean     2.168373e+03\n",
       "std      1.383804e+03\n",
       "min      0.000000e+00\n",
       "25%      9.490000e+02\n",
       "50%      2.045000e+03\n",
       "75%      3.253000e+03\n",
       "max      4.999000e+03\n",
       "dtype: float64"
      ]
     },
     "execution_count": 7,
     "metadata": {},
     "output_type": "execute_result"
    }
   ],
   "source": [
    "clusters_series = pd.Series(all_clusters)\n",
    "clusters_series.describe()"
   ]
  },
  {
   "cell_type": "code",
   "execution_count": 8,
   "id": "0f7af95b-e327-4786-917a-60ec787ec13e",
   "metadata": {},
   "outputs": [
    {
     "name": "stdout",
     "output_type": "stream",
     "text": [
      "<class 'pandas.core.series.Series'>\n",
      "RangeIndex: 376442118 entries, 0 to 376442117\n",
      "Series name: None\n",
      "Non-Null Count      Dtype\n",
      "--------------      -----\n",
      "376442118 non-null  int64\n",
      "dtypes: int64(1)\n",
      "memory usage: 2.8 GB\n"
     ]
    }
   ],
   "source": [
    "clusters_series.info()"
   ]
  },
  {
   "cell_type": "code",
   "execution_count": 9,
   "id": "aea39f7b-d360-4329-8995-93a3aa1c9515",
   "metadata": {},
   "outputs": [
    {
     "data": {
      "text/plain": [
       "(4999,)"
      ]
     },
     "execution_count": 9,
     "metadata": {},
     "output_type": "execute_result"
    }
   ],
   "source": [
    "clusters_series.unique().shape"
   ]
  },
  {
   "cell_type": "code",
   "execution_count": 10,
   "id": "1798260e-f65b-4cd2-ab3c-c0e880766b97",
   "metadata": {},
   "outputs": [
    {
     "data": {
      "text/plain": [
       "0    3118\n",
       "1    1128\n",
       "2    1562\n",
       "3    4653\n",
       "4    3383\n",
       "dtype: int64"
      ]
     },
     "execution_count": 10,
     "metadata": {},
     "output_type": "execute_result"
    }
   ],
   "source": [
    "clusters_series.head()"
   ]
  },
  {
   "cell_type": "code",
   "execution_count": 11,
   "id": "0e4e16e3-b705-4ad6-a4bf-911ee7a40f7f",
   "metadata": {},
   "outputs": [
    {
     "data": {
      "text/plain": [
       "0"
      ]
     },
     "execution_count": 11,
     "metadata": {},
     "output_type": "execute_result"
    }
   ],
   "source": [
    "(clusters_series == -1).sum()"
   ]
  },
  {
   "cell_type": "code",
   "execution_count": 12,
   "id": "a73e4bbd-9b31-49d5-a82d-8728563b79c6",
   "metadata": {},
   "outputs": [],
   "source": [
    "import random\n",
    "from collections import deque"
   ]
  },
  {
   "cell_type": "code",
   "execution_count": 13,
   "id": "a88dd86e-e34e-4a9e-9a07-1570c94f8c60",
   "metadata": {},
   "outputs": [],
   "source": [
    "num_clusters = 5000"
   ]
  },
  {
   "cell_type": "code",
   "execution_count": 14,
   "id": "768aa122-8ef6-41c1-84ef-784ff8260c7e",
   "metadata": {},
   "outputs": [
    {
     "data": {
      "text/plain": [
       "5000"
      ]
     },
     "execution_count": 14,
     "metadata": {},
     "output_type": "execute_result"
    }
   ],
   "source": [
    "cluster_lists = [deque() for _ in range(num_clusters)]\n",
    "len(cluster_lists)"
   ]
  },
  {
   "cell_type": "code",
   "execution_count": 15,
   "id": "b0032239-0111-40d4-85b4-a91136c70d17",
   "metadata": {},
   "outputs": [],
   "source": [
    "for line_id, cluster in enumerate(all_clusters):\n",
    "    if cluster != -1:\n",
    "        cluster_lists[cluster].append(line_id)"
   ]
  },
  {
   "cell_type": "code",
   "execution_count": null,
   "id": "601f5920-9f15-45c6-9714-ae92cc9f8e28",
   "metadata": {},
   "outputs": [],
   "source": [
    "# for cluster_list in cluster_lists:\n",
    "#     random.shuffle(cluster_list)"
   ]
  },
  {
   "cell_type": "code",
   "execution_count": 16,
   "id": "dd720a6e-160c-42de-85fd-b9993b3a09cc",
   "metadata": {},
   "outputs": [
    {
     "name": "stdout",
     "output_type": "stream",
     "text": [
      "sampled 1000000\n",
      "sampled 10000000\n",
      "sampled 50000000\n"
     ]
    }
   ],
   "source": [
    "for sample_size, name in ((1000000, '1M'), (10000000, '10M'), (50000000, '50M')):\n",
    "    sample = deque()\n",
    "    while len(sample) < sample_size:\n",
    "        for cluster_list in cluster_lists:\n",
    "            if cluster_list:\n",
    "                sample.append(cluster_list.pop())\n",
    "                if len(sample) == sample_size:\n",
    "                    break\n",
    "    sample = list(sample)\n",
    "    print(f'sampled {len(sample)}')\n",
    "    np.save(f'distill_corpus/diverse_sample/diverse_sample.en_{name}.npy', np.array(sample))\n"
   ]
  },
  {
   "cell_type": "code",
   "execution_count": 22,
   "id": "98cd2758-d7aa-4d5c-9892-33fa61befad0",
   "metadata": {},
   "outputs": [
    {
     "name": "stderr",
     "output_type": "stream",
     "text": [
      "376442118it [08:31, 735696.37it/s]\n"
     ]
    }
   ],
   "source": [
    "names = ('1M', '10M', '50M')\n",
    "ids = {name: set(np.load(f'distill_corpus/diverse_sample/diverse_sample.en_{name}.npy')) for name in names}\n",
    "\n",
    "with open('distill_corpus/corpus/corpus.en') as f_read:\n",
    "    with open(f'distill_corpus/diverse_sample/diverse_sample.1M.en', 'w') as f_out_1m:\n",
    "        with open(f'distill_corpus/diverse_sample/diverse_sample.10M.en', 'w') as f_out_10m:\n",
    "            with open(f'distill_corpus/diverse_sample/diverse_sample.50M.en', 'w') as f_out_50m:\n",
    "                f_out = {'1M': f_out_1m, '10M': f_out_10m, '50M': f_out_50m}\n",
    "                for line_num, text in tqdm(enumerate(f_read)):\n",
    "                    for name in names:\n",
    "                        if line_num in ids[name]:\n",
    "                            f_out[name].write(f'{text}')"
   ]
  },
  {
   "cell_type": "markdown",
   "id": "006980ac-728f-4112-8bc3-ced7450f8cc7",
   "metadata": {},
   "source": [
    "# Inspect sample"
   ]
  },
  {
   "cell_type": "code",
   "execution_count": 23,
   "id": "2a561019-f9c1-473f-bd06-8a54706b931d",
   "metadata": {},
   "outputs": [],
   "source": [
    "ids_1m = np.load(f'distill_corpus/diverse_sample/diverse_sample.en_1M.npy')\n",
    "ids_10m = np.load(f'distill_corpus/diverse_sample/diverse_sample.en_10M.npy')\n"
   ]
  },
  {
   "cell_type": "code",
   "execution_count": 24,
   "id": "8f69b62a-4da4-47fa-a31b-47f93333ef96",
   "metadata": {},
   "outputs": [
    {
     "data": {
      "text/plain": [
       "array([362812100, 370452467, 358591923, 164010577, 376436821, 356724467,\n",
       "       376080692, 131676184, 244940423, 376141511])"
      ]
     },
     "execution_count": 24,
     "metadata": {},
     "output_type": "execute_result"
    }
   ],
   "source": [
    "ids_1m[:10]"
   ]
  },
  {
   "cell_type": "code",
   "execution_count": 25,
   "id": "850a9b07-61c3-42ab-ab8c-93aefcf77646",
   "metadata": {},
   "outputs": [
    {
     "data": {
      "text/plain": [
       "array([376371916,  25552336, 366769996, 343269954, 376192114, 375800616,\n",
       "       367137089, 267996840, 374090104, 362141792])"
      ]
     },
     "execution_count": 25,
     "metadata": {},
     "output_type": "execute_result"
    }
   ],
   "source": [
    "ids_10m[:10]"
   ]
  },
  {
   "cell_type": "code",
   "execution_count": 32,
   "id": "a040ae26-1965-48b2-9877-d869cc64e737",
   "metadata": {},
   "outputs": [],
   "source": [
    "with open('distill_corpus/diverse_sample/diverse_sample.1M.en') as f:\n",
    "    sample = f.readlines()"
   ]
  },
  {
   "cell_type": "code",
   "execution_count": 45,
   "id": "bdd9d6a6-81db-46e3-877c-8d98af980d79",
   "metadata": {},
   "outputs": [
    {
     "data": {
      "text/plain": [
       "['New York has become the 16th state to legalize cannabisCredit: Getty\\n',\n",
       " 'Amazon Fire TV owners receive FREE upgrade\\n',\n",
       " 'Gemma Collins looks slimmer than ever as she gives fans hair envy in glam snap\\n',\n",
       " 'Isaacson Point\\n',\n",
       " 'Miami-Dade mayor Daniella Levine Cava approved the demolitionCredit: Getty\\n',\n",
       " \"Nigeria Chibok girls' shown alive 'in Boko Haram video\\n\",\n",
       " 'Half back raising taxes to support the NHS.\\n',\n",
       " 'He hit .305 last season.\\n',\n",
       " 'Requirement before usage\\n',\n",
       " 'Archbishop of Canterbury to condemn Illegal Migration Bill in Lords - reports\\n',\n",
       " '23.2 overs (0 Run) Angling in, on a good length, outside off, the ball straightens a bit after pitching.\\n',\n",
       " 'The Millennium Falcon\\n',\n",
       " 'So then give us some context then.\\n',\n",
       " 'The internal temperature in which the meat is being grilled is shown through the temperature gauge and with precision. Smaller the chamber, more accurately will the thermometer show the internal conditions.\\n',\n",
       " 'Paying Attention – Receipts?\\n',\n",
       " '/ Guillaume Horcajuelo / Pool via Reuters\\n',\n",
       " \"Unlikely we'll see more money committed to that at this stage.\\n\",\n",
       " 'world-building to (friendly-)rival the Avengers films.\\n',\n",
       " 'His health precluded that, but he managed to hang on there almost that long.\\n',\n",
       " 'each with 50% chance.\\n',\n",
       " \"On Mom-In-Law Priya Ahuja's Birthday, Sonam Kapoor Shares This Pic Of Son Vayu\\n\",\n",
       " 'It will be far from easy, whoever wins.\\n',\n",
       " 'Khoper River\\n',\n",
       " \"He's always a challenge to play against.\\n\",\n",
       " 'Their displays of affection have become more prominent in recent years with hand holding becoming regularly seen when they attend public events.\\n',\n",
       " 'F-16A/B Fighting Falcon\\n',\n",
       " 'I fondly hope she is growing better.\\n',\n",
       " 'Law enforcement, everybody involved needs to be more upfront.\\n',\n",
       " 'CashUSA is among the top payday loan software to incorporate crisis loans to own numerous motives. People residing the united states can have a knowledgeable experience in this service while they target brand new each and every day currency demands of people.\\n',\n",
       " 'To read our full statement CLICK HERE\\n',\n",
       " 'Forest of Dean wild boar cull is given go ahead\\n',\n",
       " 'Where it sees food there it goes.\\n',\n",
       " \"They've sort of gone in another direction.\\n\",\n",
       " 'Celtic defender Kolo Toure looks set to be offered a player-coach role as part of manager Brendan Rodgers\" set-up from the start of next season.\\n',\n",
       " 'Canelo Alvarez narrowly beat Gennady Golovkin in their 2018 rematchCredit: Getty Images - Getty\\n',\n",
       " 'Follow the Indian Premier League 2021 live cricket score on Sports.NDTV.com. After 15.1 overs, Sunrisers Hyderabad, chasing a target of 236, are 156/5. Get live score, ball by ball commentary and much more. Keep track of Indian Premier League 2021 today match between Sunrisers Hyderabad and Mumbai Indians. Everything related to Sunrisers Hyderabad and Mumbai Indians match will be available on Sports.NDTV.com. Stay updated with Sunrisers Hyderabad vs Mumbai Indians live score. Do check for Sunrisers Hyderabad vs Mumbai Indians scorecard. You can get scorecard updates, match related facts. Get quick live updates with ads, Sports.NDTV.com, which is the perfect destination for live cricket score.\\n',\n",
       " 'The JCVI recommended that \"a RSV immunisation programme, that is cost-effective, should be developed for both infants and older adults.\"\\n',\n",
       " 'William defoe\\n',\n",
       " \"I'm a size 18 & found the perfect co-ord for autumn - it even has pockets\\n\",\n",
       " 'harmless by the local people.\\n',\n",
       " 'to help make our web site as useful to you as possible\\n',\n",
       " \"Three hurt in bull run for Spain's San Fermin festival in Pamplon\\n\",\n",
       " 'Remember this brilliant actor?\\n',\n",
       " 'Sonam Kapoor wrote, \"Happy happy birthday tim.\"\\n',\n",
       " '8, 2013, in New York.\\n',\n",
       " 'Names and pictures of most wanted released in bid to track them in Spain\\n',\n",
       " 'Vertebrates of the Dominican Republic\\n',\n",
       " 'o Peace, development, and environmental protection are inter-dependent and indivisible.\\n',\n",
       " 'The Pakistan Army, which has ruled the coup-prone country for more than half of its 73 plus years of existence, has hitherto wielded considerable power in the matters of security and foreign policy.\\n',\n",
       " 'and for many years was in business in that city.\\n',\n",
       " 'He was otherwise completely alone.\\n',\n",
       " 'Native Areas Africa\\n',\n",
       " 'Table 51: Asia-Pacific Recent Past, Current & Future Analysis for Hospital Information Systems (HIS) by Segment - Clinical Information Systems (CIS) and Non-Clinical Information Systems (NCIS) Markets Independently Analyzed with Annual Revenues in US$ Thousand for Years 2016 through 2024 (includes corresponding Graph/Chart)\\n',\n",
       " 'Meanwhile, rival drugmaker Merck soared by the most in seven years.\\n',\n",
       " 'But Mr Sunak must instead deliver tax cuts.\\n',\n",
       " 'It was truly informative. Your site is useful.\\n',\n",
       " 'Graphic: The cricket bat Pistorius says he used to break down the toilet door after he shot Miss Steenkamp is seen next to a blood-soaked towel on the bathroom floor\\n',\n",
       " 'Are your monthly services secure?\\n',\n",
       " 'Follow the Indian Premier League 2020 live cricket score on Sports.NDTV.com. After 20.0 overs, Kolkata Knight Riders are 149/9. Get live score, ball by ball commentary and much more. Keep track of Indian Premier League 2020 today match between Kolkata Knight Riders and Kings XI Punjab. Everything related to Kolkata Knight Riders and Kings XI Punjab match will be available on Sports.NDTV.com. Stay updated with Kolkata Knight Riders vs Kings XI Punjab live score. Do check for Kolkata Knight Riders vs Kings XI Punjab scorecard. You can get scorecard updates, match related facts. Get quick live updates with ads, Sports.NDTV.com, which is the perfect destination for live cricket score.\\n',\n",
       " \"' Oh, I wanted to collect some facts about\\n\",\n",
       " 'Eagles, \"Witchy Woman\" (1972)\\n',\n",
       " \"From 2009-2020, the season of Alabama's sixth and most recent championship under Saban, the Crimson Tide appeared in the AP poll top-five 88% of the time.\\n\",\n",
       " 'And will City pay £160m?\\n',\n",
       " 'Fatal crash inquest is adjourned\\n',\n",
       " 'Benilyn Childrens Chesty Coughs\\n',\n",
       " 'Australia win by nine wickets; take 2-0 series lead\\n',\n",
       " 'M2HB .50 caliber machine guns\\n',\n",
       " '● IBM system and software training\\n',\n",
       " '1.5 overs (1 Run) Good-length ball, outside off. Kane Williamson taps it towards deep cover to get off the mark with one.\\n',\n",
       " '\"Here you go, pal,\" he says on the video.\\n',\n",
       " 'I spent most of December 2019 drunk.\\n',\n",
       " 'Six finalists in this year\\'s Miss Universe Indonesia beauty pageant have lodged police complaints accusing organizers of making them strip for \"body checks\" and topless photographs.\\n',\n",
       " 'Some of the drama is very soap opera-ish.\\n',\n",
       " \"I truly think they would be happy for skateboarders to be there, because it's not like they [were] old fussy types.\\n\",\n",
       " 'Five injured during Pamplona festival - but none gored by bulls\\n',\n",
       " 'Premier Annastacia Palaszczuk announced the Australian-first initiative at the state Labor conference in Townsville on Saturday.\\n',\n",
       " 'Paris Hilton with her pug dog.\\n',\n",
       " 'Ways to Write My Essay\\n',\n",
       " 'Khloe Kardashian poses with Kris Jenner for Instagram\\n',\n",
       " 'MORE: Paris Hilton devastated as beloved chihuahua dies at astonishing age of 23\\n',\n",
       " 'the Life Long Learning Award\\n',\n",
       " 'Dear Campaign editor,\\n',\n",
       " 'FRANK LAMPARD is set to ring in the changes at Chelsea ahead of their game against Watford.\\n',\n",
       " 'Got done what I wanted done, no problems.\\n',\n",
       " \"The party was attended by the who's who of Bollywood.\\n\",\n",
       " 'A charge of causing death by dangerous driving normally attracts a higher sentence than the lesser offence of causing death by careless driving.\\n',\n",
       " 'The wild elephants would start to run.\\n',\n",
       " '14. Westlife - World of Our Own\\n',\n",
       " 'posted in : health\\n',\n",
       " 'A dedicated team of experts bring you live score, live cricket score, live match update on Sports.NDTV.com. After 10.1 overs, Kings XI Punjab, chasing a target of 165, are 76/0. The live updates of Kings XI Punjab vs Kolkata Knight Riders scorecard is also available. It is the perfect platform to follow your favourite teams in Indian Premier League 2020. Keep a track on your favourite batsmen and bowlers through Indian Premier League 2020 today match, ball by ball commentary, Kings XI Punjab vs Kolkata Knight Riders, Kings XI Punjab vs Kolkata Knight Riders live score, Kings XI Punjab vs Kolkata Knight Riders scorecard. Follow the excitement of the Indian Premier League 2020 on Sports.NDTV.com as you can follow live match updates and live cricket score through our platform.\\n',\n",
       " 'Download SeaMonkey 2.14 - Download - FileHippo.com Advertisement WINDOWS MAC\\n',\n",
       " \"I'm a size 18 and did a Good American swimwear haul\\n\",\n",
       " 'Peel 2 small cucumbers (about 250g in total), slice in half down their length, then scrape out and discard the seedy pulp from the core.\\n',\n",
       " 'More migrants cross US-Mexico border in large groups\\n',\n",
       " 'native\\n',\n",
       " 'Meranti, white (Melapi) - Asian Hardwood (10)\\n',\n",
       " \"Johnson hails from Liverpool and covered Gerry Marsden's song Ferry Cross The Mersey.\\n\",\n",
       " 'International Standards Organisation\\n',\n",
       " 'Promising review: \"As a cat owner, especially an old cat, I was skeptical he wouldn\\'t use this but OMG!! He loves this thing!!! And I love that I can keep it plugged in without it getting too hot. I have a big Maine Coon cat who\\'s really hating the cold and he\\'s just enamored with this. Definitely a winner! When I took it out of the box I plugged it in and put him in after 20 minutes. Once it was warm I think I had to deliberately put him in two or three times before he realized how cozy it was. It\\'s now his #1 sleep spot. Couldn\\'t be happier! Worth it!\" - Amazon customer\\n',\n",
       " 'The pandemic accelerated everything super-fast - including my alcoholism.\\n']"
      ]
     },
     "execution_count": 45,
     "metadata": {},
     "output_type": "execute_result"
    }
   ],
   "source": [
    "sample[:100]"
   ]
  },
  {
   "cell_type": "code",
   "execution_count": 55,
   "id": "ef77cb0d-88ec-45d3-860b-7cb9204df20f",
   "metadata": {},
   "outputs": [
    {
     "data": {
      "text/html": [
       "<div>\n",
       "<style scoped>\n",
       "    .dataframe tbody tr th:only-of-type {\n",
       "        vertical-align: middle;\n",
       "    }\n",
       "\n",
       "    .dataframe tbody tr th {\n",
       "        vertical-align: top;\n",
       "    }\n",
       "\n",
       "    .dataframe thead th {\n",
       "        text-align: right;\n",
       "    }\n",
       "</style>\n",
       "<table border=\"1\" class=\"dataframe\">\n",
       "  <thead>\n",
       "    <tr style=\"text-align: right;\">\n",
       "      <th></th>\n",
       "      <th>text</th>\n",
       "      <th>cluster</th>\n",
       "      <th>len</th>\n",
       "      <th>words</th>\n",
       "    </tr>\n",
       "  </thead>\n",
       "  <tbody>\n",
       "    <tr>\n",
       "      <th>0</th>\n",
       "      <td>New York has become the 16th state to legalize...</td>\n",
       "      <td>0</td>\n",
       "      <td>69</td>\n",
       "      <td>11</td>\n",
       "    </tr>\n",
       "    <tr>\n",
       "      <th>1</th>\n",
       "      <td>Amazon Fire TV owners receive FREE upgrade\\n</td>\n",
       "      <td>1</td>\n",
       "      <td>43</td>\n",
       "      <td>7</td>\n",
       "    </tr>\n",
       "    <tr>\n",
       "      <th>2</th>\n",
       "      <td>Gemma Collins looks slimmer than ever as she g...</td>\n",
       "      <td>2</td>\n",
       "      <td>79</td>\n",
       "      <td>15</td>\n",
       "    </tr>\n",
       "    <tr>\n",
       "      <th>3</th>\n",
       "      <td>Isaacson Point\\n</td>\n",
       "      <td>3</td>\n",
       "      <td>15</td>\n",
       "      <td>2</td>\n",
       "    </tr>\n",
       "    <tr>\n",
       "      <th>4</th>\n",
       "      <td>Miami-Dade mayor Daniella Levine Cava approved...</td>\n",
       "      <td>4</td>\n",
       "      <td>75</td>\n",
       "      <td>9</td>\n",
       "    </tr>\n",
       "    <tr>\n",
       "      <th>...</th>\n",
       "      <td>...</td>\n",
       "      <td>...</td>\n",
       "      <td>...</td>\n",
       "      <td>...</td>\n",
       "    </tr>\n",
       "    <tr>\n",
       "      <th>999995</th>\n",
       "      <td>1 Alfred Terrace, Glasgow, United Kingdom (Sho...</td>\n",
       "      <td>316</td>\n",
       "      <td>54</td>\n",
       "      <td>9</td>\n",
       "    </tr>\n",
       "    <tr>\n",
       "      <th>999996</th>\n",
       "      <td>Excel East, London, United Kingdom (Show map )\\n</td>\n",
       "      <td>317</td>\n",
       "      <td>47</td>\n",
       "      <td>8</td>\n",
       "    </tr>\n",
       "    <tr>\n",
       "      <th>999997</th>\n",
       "      <td>Via Pavia 3, Milan, Italy (Show map )\\n</td>\n",
       "      <td>318</td>\n",
       "      <td>38</td>\n",
       "      <td>8</td>\n",
       "    </tr>\n",
       "    <tr>\n",
       "      <th>999998</th>\n",
       "      <td>Timbermills, Dublin, Ireland (Show map )\\n</td>\n",
       "      <td>323</td>\n",
       "      <td>41</td>\n",
       "      <td>6</td>\n",
       "    </tr>\n",
       "    <tr>\n",
       "      <th>999999</th>\n",
       "      <td>2 km to American Craft Museum (Show map )\\n</td>\n",
       "      <td>329</td>\n",
       "      <td>42</td>\n",
       "      <td>9</td>\n",
       "    </tr>\n",
       "  </tbody>\n",
       "</table>\n",
       "<p>1000000 rows × 4 columns</p>\n",
       "</div>"
      ],
      "text/plain": [
       "                                                     text  cluster  len  words\n",
       "0       New York has become the 16th state to legalize...        0   69     11\n",
       "1            Amazon Fire TV owners receive FREE upgrade\\n        1   43      7\n",
       "2       Gemma Collins looks slimmer than ever as she g...        2   79     15\n",
       "3                                        Isaacson Point\\n        3   15      2\n",
       "4       Miami-Dade mayor Daniella Levine Cava approved...        4   75      9\n",
       "...                                                   ...      ...  ...    ...\n",
       "999995  1 Alfred Terrace, Glasgow, United Kingdom (Sho...      316   54      9\n",
       "999996   Excel East, London, United Kingdom (Show map )\\n      317   47      8\n",
       "999997            Via Pavia 3, Milan, Italy (Show map )\\n      318   38      8\n",
       "999998         Timbermills, Dublin, Ireland (Show map )\\n      323   41      6\n",
       "999999        2 km to American Craft Museum (Show map )\\n      329   42      9\n",
       "\n",
       "[1000000 rows x 4 columns]"
      ]
     },
     "execution_count": 55,
     "metadata": {},
     "output_type": "execute_result"
    }
   ],
   "source": [
    "sample_df = pd.DataFrame([{'text': text, 'cluster': all_clusters[id], 'len': len(text), 'words': len(text.split())} for text, id in zip(sample, ids_1m)])\n",
    "\n",
    "sample_df"
   ]
  },
  {
   "cell_type": "code",
   "execution_count": 56,
   "id": "7bae1288-db69-43e0-b925-b34cc64b23e8",
   "metadata": {},
   "outputs": [
    {
     "data": {
      "text/plain": [
       "<Axes: >"
      ]
     },
     "execution_count": 56,
     "metadata": {},
     "output_type": "execute_result"
    },
    {
     "data": {
      "image/png": "[encoded data removed]",
      "text/plain": [
       "<Figure size 640x480 with 1 Axes>"
      ]
     },
     "metadata": {},
     "output_type": "display_data"
    }
   ],
   "source": [
    "sample_df.len.hist(bins=50)"
   ]
  },
  {
   "cell_type": "code",
   "execution_count": 58,
   "id": "559f78fa-85fc-4df7-893e-c39f19c6236c",
   "metadata": {},
   "outputs": [
    {
     "data": {
      "text/plain": [
       "<Axes: >"
      ]
     },
     "execution_count": 58,
     "metadata": {},
     "output_type": "execute_result"
    },
    {
     "data": {
      "image/png": "[encoded data removed]",
      "text/plain": [
       "<Figure size 640x480 with 1 Axes>"
      ]
     },
     "metadata": {},
     "output_type": "display_data"
    }
   ],
   "source": [
    "sample_df.words.hist(bins=50)"
   ]
  },
  {
   "cell_type": "code",
   "execution_count": 57,
   "id": "57e8b481-d852-4905-94f8-264d699d99b8",
   "metadata": {},
   "outputs": [
    {
     "data": {
      "text/plain": [
       "count    4999.000000\n",
       "mean      200.040008\n",
       "std       202.272846\n",
       "min         1.000000\n",
       "1%          1.000000\n",
       "5%          1.000000\n",
       "10%         2.000000\n",
       "20%         4.600000\n",
       "30%        11.000000\n",
       "40%        28.000000\n",
       "50%        80.000000\n",
       "60%       325.000000\n",
       "70%       442.000000\n",
       "80%       442.000000\n",
       "90%       442.000000\n",
       "95%       442.000000\n",
       "99%       443.000000\n",
       "max       443.000000\n",
       "dtype: float64"
      ]
     },
     "execution_count": 57,
     "metadata": {},
     "output_type": "execute_result"
    }
   ],
   "source": [
    "sizes = sample_df.groupby('cluster').size()\n",
    "sizes.describe(percentiles=[.01, .05, .1, .2, .3, .4, .5, .6, .7, .8, .9, .95, .99])"
   ]
  },
  {
   "cell_type": "code",
   "execution_count": 61,
   "id": "23aa2c2a-8cbd-4589-86e8-8bb27ae22291",
   "metadata": {},
   "outputs": [
    {
     "data": {
      "text/plain": [
       "<Axes: >"
      ]
     },
     "execution_count": 61,
     "metadata": {},
     "output_type": "execute_result"
    },
    {
     "data": {
      "image/png": "[encoded data removed]",
      "text/plain": [
       "<Figure size 640x480 with 1 Axes>"
      ]
     },
     "metadata": {},
     "output_type": "display_data"
    }
   ],
   "source": [
    "sample_df.groupby('cluster').size().hist(bins=20)"
   ]
  },
  {
   "cell_type": "code",
   "execution_count": null,
   "id": "b6256266-ed23-4900-ac21-8790ed3ce037",
   "metadata": {},
   "outputs": [],
   "source": []
  }
 ],
 "metadata": {
  "kernelspec": {
   "display_name": "Python 3 (ipykernel)",
   "language": "python",
   "name": "python3"
  },
  "language_info": {
   "codemirror_mode": {
    "name": "ipython",
    "version": 3
   },
   "file_extension": ".py",
   "mimetype": "text/x-python",
   "name": "python",
   "nbconvert_exporter": "python",
   "pygments_lexer": "ipython3",
   "version": "3.11.7"
  }
 },
 "nbformat": 4,
 "nbformat_minor": 5
}
